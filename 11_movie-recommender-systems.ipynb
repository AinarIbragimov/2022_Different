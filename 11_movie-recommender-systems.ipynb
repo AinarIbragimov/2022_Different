{
 "cells": [
  {
   "cell_type": "markdown",
   "id": "6bc352b6",
   "metadata": {
    "_cell_guid": "da447453-96e3-48fe-93cd-b9195433add6",
    "_uuid": "b63091dc0b9d04f19ab8861754a83b79c1789e96",
    "papermill": {
     "duration": 0.075262,
     "end_time": "2022-03-24T16:39:28.258852",
     "exception": false,
     "start_time": "2022-03-24T16:39:28.183590",
     "status": "completed"
    },
    "tags": []
   },
   "source": [
    "# Movies Recommender System"
   ]
  },
  {
   "cell_type": "code",
   "execution_count": 1,
   "id": "8ce7b6ce",
   "metadata": {
    "_cell_guid": "78fea705-f9ad-4a81-aafd-8b7b624110d1",
    "_uuid": "1c291fe3725c706e0003f01f0102abb9709f25fc",
    "execution": {
     "iopub.execute_input": "2022-03-24T16:39:28.415559Z",
     "iopub.status.busy": "2022-03-24T16:39:28.414504Z",
     "iopub.status.idle": "2022-03-24T16:39:30.700981Z",
     "shell.execute_reply": "2022-03-24T16:39:30.700213Z",
     "shell.execute_reply.started": "2022-03-24T16:34:49.473141Z"
    },
    "papermill": {
     "duration": 2.367834,
     "end_time": "2022-03-24T16:39:30.701156",
     "exception": false,
     "start_time": "2022-03-24T16:39:28.333322",
     "status": "completed"
    },
    "tags": []
   },
   "outputs": [],
   "source": [
    "%matplotlib inline\n",
    "import pandas as pd\n",
    "import numpy as np\n",
    "import matplotlib.pyplot as plt\n",
    "import seaborn as sns\n",
    "from scipy import stats\n",
    "from ast import literal_eval\n",
    "from sklearn.feature_extraction.text import TfidfVectorizer, CountVectorizer\n",
    "from sklearn.metrics.pairwise import linear_kernel, cosine_similarity\n",
    "from nltk.stem.snowball import SnowballStemmer\n",
    "from nltk.stem.wordnet import WordNetLemmatizer\n",
    "from nltk.corpus import wordnet\n",
    "from surprise import Reader, Dataset, SVD\n",
    "from surprise.model_selection import cross_validate\n",
    "\n",
    "import warnings; warnings.simplefilter('ignore')"
   ]
  },
  {
   "cell_type": "markdown",
   "id": "769559b4",
   "metadata": {
    "_cell_guid": "f130bae8-1bb0-415d-9a39-557fe180b490",
    "_uuid": "49131e65f312719487848f6ef42488041a44028e",
    "papermill": {
     "duration": 0.06988,
     "end_time": "2022-03-24T16:39:30.841757",
     "exception": false,
     "start_time": "2022-03-24T16:39:30.771877",
     "status": "completed"
    },
    "tags": []
   },
   "source": [
    "## Simple Recommender"
   ]
  },
  {
   "cell_type": "code",
   "execution_count": 2,
   "id": "26780ba2",
   "metadata": {
    "_cell_guid": "0356d2a0-d8b2-4234-af78-bd51eaa3a390",
    "_uuid": "e0d62612bc9b9e9561afdc48fd1e75a9b0c82337",
    "execution": {
     "iopub.execute_input": "2022-03-24T16:39:30.989871Z",
     "iopub.status.busy": "2022-03-24T16:39:30.988893Z",
     "iopub.status.idle": "2022-03-24T16:39:32.387980Z",
     "shell.execute_reply": "2022-03-24T16:39:32.388523Z",
     "shell.execute_reply.started": "2022-03-24T16:34:51.322731Z"
    },
    "papermill": {
     "duration": 1.475227,
     "end_time": "2022-03-24T16:39:32.388716",
     "exception": false,
     "start_time": "2022-03-24T16:39:30.913489",
     "status": "completed"
    },
    "tags": []
   },
   "outputs": [
    {
     "data": {
      "text/html": [
       "<div>\n",
       "<style scoped>\n",
       "    .dataframe tbody tr th:only-of-type {\n",
       "        vertical-align: middle;\n",
       "    }\n",
       "\n",
       "    .dataframe tbody tr th {\n",
       "        vertical-align: top;\n",
       "    }\n",
       "\n",
       "    .dataframe thead th {\n",
       "        text-align: right;\n",
       "    }\n",
       "</style>\n",
       "<table border=\"1\" class=\"dataframe\">\n",
       "  <thead>\n",
       "    <tr style=\"text-align: right;\">\n",
       "      <th></th>\n",
       "      <th>adult</th>\n",
       "      <th>belongs_to_collection</th>\n",
       "      <th>budget</th>\n",
       "      <th>genres</th>\n",
       "      <th>homepage</th>\n",
       "      <th>id</th>\n",
       "      <th>imdb_id</th>\n",
       "      <th>original_language</th>\n",
       "      <th>original_title</th>\n",
       "      <th>overview</th>\n",
       "      <th>...</th>\n",
       "      <th>release_date</th>\n",
       "      <th>revenue</th>\n",
       "      <th>runtime</th>\n",
       "      <th>spoken_languages</th>\n",
       "      <th>status</th>\n",
       "      <th>tagline</th>\n",
       "      <th>title</th>\n",
       "      <th>video</th>\n",
       "      <th>vote_average</th>\n",
       "      <th>vote_count</th>\n",
       "    </tr>\n",
       "  </thead>\n",
       "  <tbody>\n",
       "    <tr>\n",
       "      <th>0</th>\n",
       "      <td>False</td>\n",
       "      <td>{'id': 10194, 'name': 'Toy Story Collection', ...</td>\n",
       "      <td>30000000</td>\n",
       "      <td>[{'id': 16, 'name': 'Animation'}, {'id': 35, '...</td>\n",
       "      <td>http://toystory.disney.com/toy-story</td>\n",
       "      <td>862</td>\n",
       "      <td>tt0114709</td>\n",
       "      <td>en</td>\n",
       "      <td>Toy Story</td>\n",
       "      <td>Led by Woody, Andy's toys live happily in his ...</td>\n",
       "      <td>...</td>\n",
       "      <td>1995-10-30</td>\n",
       "      <td>373554033.0</td>\n",
       "      <td>81.0</td>\n",
       "      <td>[{'iso_639_1': 'en', 'name': 'English'}]</td>\n",
       "      <td>Released</td>\n",
       "      <td>NaN</td>\n",
       "      <td>Toy Story</td>\n",
       "      <td>False</td>\n",
       "      <td>7.7</td>\n",
       "      <td>5415.0</td>\n",
       "    </tr>\n",
       "    <tr>\n",
       "      <th>1</th>\n",
       "      <td>False</td>\n",
       "      <td>NaN</td>\n",
       "      <td>65000000</td>\n",
       "      <td>[{'id': 12, 'name': 'Adventure'}, {'id': 14, '...</td>\n",
       "      <td>NaN</td>\n",
       "      <td>8844</td>\n",
       "      <td>tt0113497</td>\n",
       "      <td>en</td>\n",
       "      <td>Jumanji</td>\n",
       "      <td>When siblings Judy and Peter discover an encha...</td>\n",
       "      <td>...</td>\n",
       "      <td>1995-12-15</td>\n",
       "      <td>262797249.0</td>\n",
       "      <td>104.0</td>\n",
       "      <td>[{'iso_639_1': 'en', 'name': 'English'}, {'iso...</td>\n",
       "      <td>Released</td>\n",
       "      <td>Roll the dice and unleash the excitement!</td>\n",
       "      <td>Jumanji</td>\n",
       "      <td>False</td>\n",
       "      <td>6.9</td>\n",
       "      <td>2413.0</td>\n",
       "    </tr>\n",
       "    <tr>\n",
       "      <th>2</th>\n",
       "      <td>False</td>\n",
       "      <td>{'id': 119050, 'name': 'Grumpy Old Men Collect...</td>\n",
       "      <td>0</td>\n",
       "      <td>[{'id': 10749, 'name': 'Romance'}, {'id': 35, ...</td>\n",
       "      <td>NaN</td>\n",
       "      <td>15602</td>\n",
       "      <td>tt0113228</td>\n",
       "      <td>en</td>\n",
       "      <td>Grumpier Old Men</td>\n",
       "      <td>A family wedding reignites the ancient feud be...</td>\n",
       "      <td>...</td>\n",
       "      <td>1995-12-22</td>\n",
       "      <td>0.0</td>\n",
       "      <td>101.0</td>\n",
       "      <td>[{'iso_639_1': 'en', 'name': 'English'}]</td>\n",
       "      <td>Released</td>\n",
       "      <td>Still Yelling. Still Fighting. Still Ready for...</td>\n",
       "      <td>Grumpier Old Men</td>\n",
       "      <td>False</td>\n",
       "      <td>6.5</td>\n",
       "      <td>92.0</td>\n",
       "    </tr>\n",
       "    <tr>\n",
       "      <th>3</th>\n",
       "      <td>False</td>\n",
       "      <td>NaN</td>\n",
       "      <td>16000000</td>\n",
       "      <td>[{'id': 35, 'name': 'Comedy'}, {'id': 18, 'nam...</td>\n",
       "      <td>NaN</td>\n",
       "      <td>31357</td>\n",
       "      <td>tt0114885</td>\n",
       "      <td>en</td>\n",
       "      <td>Waiting to Exhale</td>\n",
       "      <td>Cheated on, mistreated and stepped on, the wom...</td>\n",
       "      <td>...</td>\n",
       "      <td>1995-12-22</td>\n",
       "      <td>81452156.0</td>\n",
       "      <td>127.0</td>\n",
       "      <td>[{'iso_639_1': 'en', 'name': 'English'}]</td>\n",
       "      <td>Released</td>\n",
       "      <td>Friends are the people who let you be yourself...</td>\n",
       "      <td>Waiting to Exhale</td>\n",
       "      <td>False</td>\n",
       "      <td>6.1</td>\n",
       "      <td>34.0</td>\n",
       "    </tr>\n",
       "    <tr>\n",
       "      <th>4</th>\n",
       "      <td>False</td>\n",
       "      <td>{'id': 96871, 'name': 'Father of the Bride Col...</td>\n",
       "      <td>0</td>\n",
       "      <td>[{'id': 35, 'name': 'Comedy'}]</td>\n",
       "      <td>NaN</td>\n",
       "      <td>11862</td>\n",
       "      <td>tt0113041</td>\n",
       "      <td>en</td>\n",
       "      <td>Father of the Bride Part II</td>\n",
       "      <td>Just when George Banks has recovered from his ...</td>\n",
       "      <td>...</td>\n",
       "      <td>1995-02-10</td>\n",
       "      <td>76578911.0</td>\n",
       "      <td>106.0</td>\n",
       "      <td>[{'iso_639_1': 'en', 'name': 'English'}]</td>\n",
       "      <td>Released</td>\n",
       "      <td>Just When His World Is Back To Normal... He's ...</td>\n",
       "      <td>Father of the Bride Part II</td>\n",
       "      <td>False</td>\n",
       "      <td>5.7</td>\n",
       "      <td>173.0</td>\n",
       "    </tr>\n",
       "  </tbody>\n",
       "</table>\n",
       "<p>5 rows × 24 columns</p>\n",
       "</div>"
      ],
      "text/plain": [
       "   adult                              belongs_to_collection    budget  \\\n",
       "0  False  {'id': 10194, 'name': 'Toy Story Collection', ...  30000000   \n",
       "1  False                                                NaN  65000000   \n",
       "2  False  {'id': 119050, 'name': 'Grumpy Old Men Collect...         0   \n",
       "3  False                                                NaN  16000000   \n",
       "4  False  {'id': 96871, 'name': 'Father of the Bride Col...         0   \n",
       "\n",
       "                                              genres  \\\n",
       "0  [{'id': 16, 'name': 'Animation'}, {'id': 35, '...   \n",
       "1  [{'id': 12, 'name': 'Adventure'}, {'id': 14, '...   \n",
       "2  [{'id': 10749, 'name': 'Romance'}, {'id': 35, ...   \n",
       "3  [{'id': 35, 'name': 'Comedy'}, {'id': 18, 'nam...   \n",
       "4                     [{'id': 35, 'name': 'Comedy'}]   \n",
       "\n",
       "                               homepage     id    imdb_id original_language  \\\n",
       "0  http://toystory.disney.com/toy-story    862  tt0114709                en   \n",
       "1                                   NaN   8844  tt0113497                en   \n",
       "2                                   NaN  15602  tt0113228                en   \n",
       "3                                   NaN  31357  tt0114885                en   \n",
       "4                                   NaN  11862  tt0113041                en   \n",
       "\n",
       "                original_title  \\\n",
       "0                    Toy Story   \n",
       "1                      Jumanji   \n",
       "2             Grumpier Old Men   \n",
       "3            Waiting to Exhale   \n",
       "4  Father of the Bride Part II   \n",
       "\n",
       "                                            overview  ... release_date  \\\n",
       "0  Led by Woody, Andy's toys live happily in his ...  ...   1995-10-30   \n",
       "1  When siblings Judy and Peter discover an encha...  ...   1995-12-15   \n",
       "2  A family wedding reignites the ancient feud be...  ...   1995-12-22   \n",
       "3  Cheated on, mistreated and stepped on, the wom...  ...   1995-12-22   \n",
       "4  Just when George Banks has recovered from his ...  ...   1995-02-10   \n",
       "\n",
       "       revenue runtime                                   spoken_languages  \\\n",
       "0  373554033.0    81.0           [{'iso_639_1': 'en', 'name': 'English'}]   \n",
       "1  262797249.0   104.0  [{'iso_639_1': 'en', 'name': 'English'}, {'iso...   \n",
       "2          0.0   101.0           [{'iso_639_1': 'en', 'name': 'English'}]   \n",
       "3   81452156.0   127.0           [{'iso_639_1': 'en', 'name': 'English'}]   \n",
       "4   76578911.0   106.0           [{'iso_639_1': 'en', 'name': 'English'}]   \n",
       "\n",
       "     status                                            tagline  \\\n",
       "0  Released                                                NaN   \n",
       "1  Released          Roll the dice and unleash the excitement!   \n",
       "2  Released  Still Yelling. Still Fighting. Still Ready for...   \n",
       "3  Released  Friends are the people who let you be yourself...   \n",
       "4  Released  Just When His World Is Back To Normal... He's ...   \n",
       "\n",
       "                         title  video vote_average vote_count  \n",
       "0                    Toy Story  False          7.7     5415.0  \n",
       "1                      Jumanji  False          6.9     2413.0  \n",
       "2             Grumpier Old Men  False          6.5       92.0  \n",
       "3            Waiting to Exhale  False          6.1       34.0  \n",
       "4  Father of the Bride Part II  False          5.7      173.0  \n",
       "\n",
       "[5 rows x 24 columns]"
      ]
     },
     "execution_count": 2,
     "metadata": {},
     "output_type": "execute_result"
    }
   ],
   "source": [
    "md = pd. read_csv('../input/movies_metadata.csv')\n",
    "md.head()"
   ]
  },
  {
   "cell_type": "code",
   "execution_count": 3,
   "id": "446773db",
   "metadata": {
    "_cell_guid": "f933a861-409a-4df7-98f1-7960a2a3874b",
    "_uuid": "d4df4c2158595611f2ea7ad4b16f71900e529ea8",
    "execution": {
     "iopub.execute_input": "2022-03-24T16:39:32.542475Z",
     "iopub.status.busy": "2022-03-24T16:39:32.541756Z",
     "iopub.status.idle": "2022-03-24T16:39:34.066871Z",
     "shell.execute_reply": "2022-03-24T16:39:34.066290Z",
     "shell.execute_reply.started": "2022-03-24T16:34:52.494376Z"
    },
    "papermill": {
     "duration": 1.607114,
     "end_time": "2022-03-24T16:39:34.067015",
     "exception": false,
     "start_time": "2022-03-24T16:39:32.459901",
     "status": "completed"
    },
    "tags": []
   },
   "outputs": [],
   "source": [
    "md['genres'] = md['genres'].fillna('[]').apply(literal_eval).apply(lambda x: [i['name'] for i in x] if isinstance(x, list) else [])"
   ]
  },
  {
   "cell_type": "code",
   "execution_count": 4,
   "id": "eed1eee5",
   "metadata": {
    "_cell_guid": "de5d2a9a-9d67-4309-9256-844756318bd0",
    "_uuid": "1e732487caba09d9543f3da49cbe7ff5092e2675",
    "execution": {
     "iopub.execute_input": "2022-03-24T16:39:34.222025Z",
     "iopub.status.busy": "2022-03-24T16:39:34.221333Z",
     "iopub.status.idle": "2022-03-24T16:39:34.267300Z",
     "shell.execute_reply": "2022-03-24T16:39:34.267806Z",
     "shell.execute_reply.started": "2022-03-24T16:34:54.074834Z"
    },
    "papermill": {
     "duration": 0.126019,
     "end_time": "2022-03-24T16:39:34.268023",
     "exception": false,
     "start_time": "2022-03-24T16:39:34.142004",
     "status": "completed"
    },
    "tags": []
   },
   "outputs": [
    {
     "data": {
      "text/plain": [
       "5.244896612406511"
      ]
     },
     "execution_count": 4,
     "metadata": {},
     "output_type": "execute_result"
    }
   ],
   "source": [
    "vote_counts = md[md['vote_count'].notnull()]['vote_count'].astype('int')\n",
    "vote_averages = md[md['vote_average'].notnull()]['vote_average'].astype('int')\n",
    "C = vote_averages.mean()\n",
    "C"
   ]
  },
  {
   "cell_type": "code",
   "execution_count": 5,
   "id": "4ebad71f",
   "metadata": {
    "_cell_guid": "f2a3dff7-6430-471b-bd83-589779ab52b0",
    "_uuid": "23c2e113380f1bad9205ab2d0f8c372b0c246e79",
    "execution": {
     "iopub.execute_input": "2022-03-24T16:39:34.416048Z",
     "iopub.status.busy": "2022-03-24T16:39:34.415005Z",
     "iopub.status.idle": "2022-03-24T16:39:34.425243Z",
     "shell.execute_reply": "2022-03-24T16:39:34.425829Z",
     "shell.execute_reply.started": "2022-03-24T16:34:54.125230Z"
    },
    "papermill": {
     "duration": 0.087697,
     "end_time": "2022-03-24T16:39:34.426010",
     "exception": false,
     "start_time": "2022-03-24T16:39:34.338313",
     "status": "completed"
    },
    "tags": []
   },
   "outputs": [
    {
     "data": {
      "text/plain": [
       "434.0"
      ]
     },
     "execution_count": 5,
     "metadata": {},
     "output_type": "execute_result"
    }
   ],
   "source": [
    "m = vote_counts.quantile(0.95)\n",
    "m"
   ]
  },
  {
   "cell_type": "code",
   "execution_count": 6,
   "id": "cbc8603d",
   "metadata": {
    "_cell_guid": "93f480df-6e7b-427c-bbc0-906fd41640b0",
    "_uuid": "dbb8261dedb84e4a8ea8bed843c9de3ad9f3859d",
    "execution": {
     "iopub.execute_input": "2022-03-24T16:39:34.580889Z",
     "iopub.status.busy": "2022-03-24T16:39:34.580162Z",
     "iopub.status.idle": "2022-03-24T16:39:35.128335Z",
     "shell.execute_reply": "2022-03-24T16:39:35.127569Z",
     "shell.execute_reply.started": "2022-03-24T16:34:54.136888Z"
    },
    "papermill": {
     "duration": 0.626946,
     "end_time": "2022-03-24T16:39:35.128491",
     "exception": false,
     "start_time": "2022-03-24T16:39:34.501545",
     "status": "completed"
    },
    "tags": []
   },
   "outputs": [],
   "source": [
    "md['year'] = pd.to_datetime(md['release_date'], errors='coerce').apply(lambda x: str(x).split('-')[0] if x != np.nan else np.nan)"
   ]
  },
  {
   "cell_type": "code",
   "execution_count": 7,
   "id": "d171a565",
   "metadata": {
    "_cell_guid": "e7e91af4-7ff5-4553-bfbb-b9339096397e",
    "_uuid": "dcb30bee69ef1a6ead2c745565e5e7bfd5314d7a",
    "execution": {
     "iopub.execute_input": "2022-03-24T16:39:35.279006Z",
     "iopub.status.busy": "2022-03-24T16:39:35.278273Z",
     "iopub.status.idle": "2022-03-24T16:39:35.334094Z",
     "shell.execute_reply": "2022-03-24T16:39:35.333518Z",
     "shell.execute_reply.started": "2022-03-24T16:34:54.684475Z"
    },
    "papermill": {
     "duration": 0.131128,
     "end_time": "2022-03-24T16:39:35.334243",
     "exception": false,
     "start_time": "2022-03-24T16:39:35.203115",
     "status": "completed"
    },
    "tags": []
   },
   "outputs": [
    {
     "data": {
      "text/plain": [
       "(2274, 6)"
      ]
     },
     "execution_count": 7,
     "metadata": {},
     "output_type": "execute_result"
    }
   ],
   "source": [
    "qualified = md[(md['vote_count'] >= m) & (md['vote_count'].notnull()) & (md['vote_average'].notnull())][['title', 'year', 'vote_count', 'vote_average', 'popularity', 'genres']]\n",
    "qualified['vote_count'] = qualified['vote_count'].astype('int')\n",
    "qualified['vote_average'] = qualified['vote_average'].astype('int')\n",
    "qualified.shape"
   ]
  },
  {
   "cell_type": "code",
   "execution_count": 8,
   "id": "83d8e3a4",
   "metadata": {
    "_cell_guid": "db959c40-7618-4755-a05a-5347f9460929",
    "_uuid": "6414e1aa7ed8cb4184ec451f02a18cd187e5345e",
    "execution": {
     "iopub.execute_input": "2022-03-24T16:39:35.490384Z",
     "iopub.status.busy": "2022-03-24T16:39:35.489661Z",
     "iopub.status.idle": "2022-03-24T16:39:35.494473Z",
     "shell.execute_reply": "2022-03-24T16:39:35.495010Z",
     "shell.execute_reply.started": "2022-03-24T16:34:54.744518Z"
    },
    "papermill": {
     "duration": 0.082731,
     "end_time": "2022-03-24T16:39:35.495192",
     "exception": false,
     "start_time": "2022-03-24T16:39:35.412461",
     "status": "completed"
    },
    "tags": []
   },
   "outputs": [],
   "source": [
    "def weighted_rating(x):\n",
    "    v = x['vote_count']\n",
    "    R = x['vote_average']\n",
    "    return (v/(v+m) * R) + (m/(m+v) * C)"
   ]
  },
  {
   "cell_type": "code",
   "execution_count": 9,
   "id": "6a7447e6",
   "metadata": {
    "_cell_guid": "0f5e4384-51be-41df-a023-12a13e77d66c",
    "_uuid": "78ec5052b0e89ae51a834aa3a305cf55b6849f42",
    "execution": {
     "iopub.execute_input": "2022-03-24T16:39:35.648047Z",
     "iopub.status.busy": "2022-03-24T16:39:35.647346Z",
     "iopub.status.idle": "2022-03-24T16:39:35.701826Z",
     "shell.execute_reply": "2022-03-24T16:39:35.701217Z",
     "shell.execute_reply.started": "2022-03-24T16:34:54.752104Z"
    },
    "papermill": {
     "duration": 0.133545,
     "end_time": "2022-03-24T16:39:35.701978",
     "exception": false,
     "start_time": "2022-03-24T16:39:35.568433",
     "status": "completed"
    },
    "tags": []
   },
   "outputs": [],
   "source": [
    "qualified['wr'] = qualified.apply(weighted_rating, axis=1)"
   ]
  },
  {
   "cell_type": "code",
   "execution_count": 10,
   "id": "858643ce",
   "metadata": {
    "_cell_guid": "ccbd8eca-cbfe-4843-9885-de11976f117c",
    "_uuid": "ed0ac7c8483f904d4f5ec0d554096d4782fa8bcf",
    "execution": {
     "iopub.execute_input": "2022-03-24T16:39:35.850462Z",
     "iopub.status.busy": "2022-03-24T16:39:35.849747Z",
     "iopub.status.idle": "2022-03-24T16:39:35.855372Z",
     "shell.execute_reply": "2022-03-24T16:39:35.855940Z",
     "shell.execute_reply.started": "2022-03-24T16:34:54.820691Z"
    },
    "papermill": {
     "duration": 0.082481,
     "end_time": "2022-03-24T16:39:35.856124",
     "exception": false,
     "start_time": "2022-03-24T16:39:35.773643",
     "status": "completed"
    },
    "tags": []
   },
   "outputs": [],
   "source": [
    "qualified = qualified.sort_values('wr', ascending=False).head(250)"
   ]
  },
  {
   "cell_type": "markdown",
   "id": "9ac3f939",
   "metadata": {
    "_cell_guid": "36a1b9ac-aff3-4d80-9e19-83a45f282062",
    "_uuid": "75eb9e1de05386d229746785a25c6a5c6ee4b61a",
    "papermill": {
     "duration": 0.073983,
     "end_time": "2022-03-24T16:39:36.003343",
     "exception": false,
     "start_time": "2022-03-24T16:39:35.929360",
     "status": "completed"
    },
    "tags": []
   },
   "source": [
    "### Top Movies"
   ]
  },
  {
   "cell_type": "code",
   "execution_count": 11,
   "id": "fe9373a3",
   "metadata": {
    "_cell_guid": "0bca5b03-0835-4902-aaa1-beceb9d9d47f",
    "_uuid": "f7f6821b7e9aff099b81fcc425fd20109894b351",
    "execution": {
     "iopub.execute_input": "2022-03-24T16:39:36.174234Z",
     "iopub.status.busy": "2022-03-24T16:39:36.173542Z",
     "iopub.status.idle": "2022-03-24T16:39:36.176742Z",
     "shell.execute_reply": "2022-03-24T16:39:36.177287Z",
     "shell.execute_reply.started": "2022-03-24T16:34:54.828382Z"
    },
    "papermill": {
     "duration": 0.098287,
     "end_time": "2022-03-24T16:39:36.177466",
     "exception": false,
     "start_time": "2022-03-24T16:39:36.079179",
     "status": "completed"
    },
    "tags": []
   },
   "outputs": [
    {
     "data": {
      "text/html": [
       "<div>\n",
       "<style scoped>\n",
       "    .dataframe tbody tr th:only-of-type {\n",
       "        vertical-align: middle;\n",
       "    }\n",
       "\n",
       "    .dataframe tbody tr th {\n",
       "        vertical-align: top;\n",
       "    }\n",
       "\n",
       "    .dataframe thead th {\n",
       "        text-align: right;\n",
       "    }\n",
       "</style>\n",
       "<table border=\"1\" class=\"dataframe\">\n",
       "  <thead>\n",
       "    <tr style=\"text-align: right;\">\n",
       "      <th></th>\n",
       "      <th>title</th>\n",
       "      <th>year</th>\n",
       "      <th>vote_count</th>\n",
       "      <th>vote_average</th>\n",
       "      <th>popularity</th>\n",
       "      <th>genres</th>\n",
       "      <th>wr</th>\n",
       "    </tr>\n",
       "  </thead>\n",
       "  <tbody>\n",
       "    <tr>\n",
       "      <th>15480</th>\n",
       "      <td>Inception</td>\n",
       "      <td>2010</td>\n",
       "      <td>14075</td>\n",
       "      <td>8</td>\n",
       "      <td>29.108149</td>\n",
       "      <td>[Action, Thriller, Science Fiction, Mystery, A...</td>\n",
       "      <td>7.917588</td>\n",
       "    </tr>\n",
       "    <tr>\n",
       "      <th>12481</th>\n",
       "      <td>The Dark Knight</td>\n",
       "      <td>2008</td>\n",
       "      <td>12269</td>\n",
       "      <td>8</td>\n",
       "      <td>123.167259</td>\n",
       "      <td>[Drama, Action, Crime, Thriller]</td>\n",
       "      <td>7.905871</td>\n",
       "    </tr>\n",
       "    <tr>\n",
       "      <th>22879</th>\n",
       "      <td>Interstellar</td>\n",
       "      <td>2014</td>\n",
       "      <td>11187</td>\n",
       "      <td>8</td>\n",
       "      <td>32.213481</td>\n",
       "      <td>[Adventure, Drama, Science Fiction]</td>\n",
       "      <td>7.897107</td>\n",
       "    </tr>\n",
       "    <tr>\n",
       "      <th>2843</th>\n",
       "      <td>Fight Club</td>\n",
       "      <td>1999</td>\n",
       "      <td>9678</td>\n",
       "      <td>8</td>\n",
       "      <td>63.869599</td>\n",
       "      <td>[Drama]</td>\n",
       "      <td>7.881753</td>\n",
       "    </tr>\n",
       "    <tr>\n",
       "      <th>4863</th>\n",
       "      <td>The Lord of the Rings: The Fellowship of the Ring</td>\n",
       "      <td>2001</td>\n",
       "      <td>8892</td>\n",
       "      <td>8</td>\n",
       "      <td>32.070725</td>\n",
       "      <td>[Adventure, Fantasy, Action]</td>\n",
       "      <td>7.871787</td>\n",
       "    </tr>\n",
       "    <tr>\n",
       "      <th>292</th>\n",
       "      <td>Pulp Fiction</td>\n",
       "      <td>1994</td>\n",
       "      <td>8670</td>\n",
       "      <td>8</td>\n",
       "      <td>140.950236</td>\n",
       "      <td>[Thriller, Crime]</td>\n",
       "      <td>7.868660</td>\n",
       "    </tr>\n",
       "    <tr>\n",
       "      <th>314</th>\n",
       "      <td>The Shawshank Redemption</td>\n",
       "      <td>1994</td>\n",
       "      <td>8358</td>\n",
       "      <td>8</td>\n",
       "      <td>51.645403</td>\n",
       "      <td>[Drama, Crime]</td>\n",
       "      <td>7.864000</td>\n",
       "    </tr>\n",
       "    <tr>\n",
       "      <th>7000</th>\n",
       "      <td>The Lord of the Rings: The Return of the King</td>\n",
       "      <td>2003</td>\n",
       "      <td>8226</td>\n",
       "      <td>8</td>\n",
       "      <td>29.324358</td>\n",
       "      <td>[Adventure, Fantasy, Action]</td>\n",
       "      <td>7.861927</td>\n",
       "    </tr>\n",
       "    <tr>\n",
       "      <th>351</th>\n",
       "      <td>Forrest Gump</td>\n",
       "      <td>1994</td>\n",
       "      <td>8147</td>\n",
       "      <td>8</td>\n",
       "      <td>48.307194</td>\n",
       "      <td>[Comedy, Drama, Romance]</td>\n",
       "      <td>7.860656</td>\n",
       "    </tr>\n",
       "    <tr>\n",
       "      <th>5814</th>\n",
       "      <td>The Lord of the Rings: The Two Towers</td>\n",
       "      <td>2002</td>\n",
       "      <td>7641</td>\n",
       "      <td>8</td>\n",
       "      <td>29.423537</td>\n",
       "      <td>[Adventure, Fantasy, Action]</td>\n",
       "      <td>7.851924</td>\n",
       "    </tr>\n",
       "    <tr>\n",
       "      <th>256</th>\n",
       "      <td>Star Wars</td>\n",
       "      <td>1977</td>\n",
       "      <td>6778</td>\n",
       "      <td>8</td>\n",
       "      <td>42.149697</td>\n",
       "      <td>[Adventure, Action, Science Fiction]</td>\n",
       "      <td>7.834205</td>\n",
       "    </tr>\n",
       "    <tr>\n",
       "      <th>1225</th>\n",
       "      <td>Back to the Future</td>\n",
       "      <td>1985</td>\n",
       "      <td>6239</td>\n",
       "      <td>8</td>\n",
       "      <td>25.778509</td>\n",
       "      <td>[Adventure, Comedy, Science Fiction, Family]</td>\n",
       "      <td>7.820813</td>\n",
       "    </tr>\n",
       "    <tr>\n",
       "      <th>834</th>\n",
       "      <td>The Godfather</td>\n",
       "      <td>1972</td>\n",
       "      <td>6024</td>\n",
       "      <td>8</td>\n",
       "      <td>41.109264</td>\n",
       "      <td>[Drama, Crime]</td>\n",
       "      <td>7.814847</td>\n",
       "    </tr>\n",
       "    <tr>\n",
       "      <th>1154</th>\n",
       "      <td>The Empire Strikes Back</td>\n",
       "      <td>1980</td>\n",
       "      <td>5998</td>\n",
       "      <td>8</td>\n",
       "      <td>19.470959</td>\n",
       "      <td>[Adventure, Action, Science Fiction]</td>\n",
       "      <td>7.814099</td>\n",
       "    </tr>\n",
       "    <tr>\n",
       "      <th>46</th>\n",
       "      <td>Se7en</td>\n",
       "      <td>1995</td>\n",
       "      <td>5915</td>\n",
       "      <td>8</td>\n",
       "      <td>18.45743</td>\n",
       "      <td>[Crime, Mystery, Thriller]</td>\n",
       "      <td>7.811669</td>\n",
       "    </tr>\n",
       "  </tbody>\n",
       "</table>\n",
       "</div>"
      ],
      "text/plain": [
       "                                                   title  year  vote_count  \\\n",
       "15480                                          Inception  2010       14075   \n",
       "12481                                    The Dark Knight  2008       12269   \n",
       "22879                                       Interstellar  2014       11187   \n",
       "2843                                          Fight Club  1999        9678   \n",
       "4863   The Lord of the Rings: The Fellowship of the Ring  2001        8892   \n",
       "292                                         Pulp Fiction  1994        8670   \n",
       "314                             The Shawshank Redemption  1994        8358   \n",
       "7000       The Lord of the Rings: The Return of the King  2003        8226   \n",
       "351                                         Forrest Gump  1994        8147   \n",
       "5814               The Lord of the Rings: The Two Towers  2002        7641   \n",
       "256                                            Star Wars  1977        6778   \n",
       "1225                                  Back to the Future  1985        6239   \n",
       "834                                        The Godfather  1972        6024   \n",
       "1154                             The Empire Strikes Back  1980        5998   \n",
       "46                                                 Se7en  1995        5915   \n",
       "\n",
       "       vote_average  popularity  \\\n",
       "15480             8   29.108149   \n",
       "12481             8  123.167259   \n",
       "22879             8   32.213481   \n",
       "2843              8   63.869599   \n",
       "4863              8   32.070725   \n",
       "292               8  140.950236   \n",
       "314               8   51.645403   \n",
       "7000              8   29.324358   \n",
       "351               8   48.307194   \n",
       "5814              8   29.423537   \n",
       "256               8   42.149697   \n",
       "1225              8   25.778509   \n",
       "834               8   41.109264   \n",
       "1154              8   19.470959   \n",
       "46                8    18.45743   \n",
       "\n",
       "                                                  genres        wr  \n",
       "15480  [Action, Thriller, Science Fiction, Mystery, A...  7.917588  \n",
       "12481                   [Drama, Action, Crime, Thriller]  7.905871  \n",
       "22879                [Adventure, Drama, Science Fiction]  7.897107  \n",
       "2843                                             [Drama]  7.881753  \n",
       "4863                        [Adventure, Fantasy, Action]  7.871787  \n",
       "292                                    [Thriller, Crime]  7.868660  \n",
       "314                                       [Drama, Crime]  7.864000  \n",
       "7000                        [Adventure, Fantasy, Action]  7.861927  \n",
       "351                             [Comedy, Drama, Romance]  7.860656  \n",
       "5814                        [Adventure, Fantasy, Action]  7.851924  \n",
       "256                 [Adventure, Action, Science Fiction]  7.834205  \n",
       "1225        [Adventure, Comedy, Science Fiction, Family]  7.820813  \n",
       "834                                       [Drama, Crime]  7.814847  \n",
       "1154                [Adventure, Action, Science Fiction]  7.814099  \n",
       "46                            [Crime, Mystery, Thriller]  7.811669  "
      ]
     },
     "execution_count": 11,
     "metadata": {},
     "output_type": "execute_result"
    }
   ],
   "source": [
    "qualified.head(15)"
   ]
  },
  {
   "cell_type": "code",
   "execution_count": 12,
   "id": "8f45d208",
   "metadata": {
    "_cell_guid": "c6be871d-62d4-4ec4-abe4-6ca1b1c01fa0",
    "_uuid": "b59a35544efcd50e89e4bb1ea14bbfe32fc9bcd3",
    "execution": {
     "iopub.execute_input": "2022-03-24T16:39:36.329951Z",
     "iopub.status.busy": "2022-03-24T16:39:36.329296Z",
     "iopub.status.idle": "2022-03-24T16:39:52.981743Z",
     "shell.execute_reply": "2022-03-24T16:39:52.982254Z",
     "shell.execute_reply.started": "2022-03-24T16:34:54.855918Z"
    },
    "papermill": {
     "duration": 16.728529,
     "end_time": "2022-03-24T16:39:52.982459",
     "exception": false,
     "start_time": "2022-03-24T16:39:36.253930",
     "status": "completed"
    },
    "tags": []
   },
   "outputs": [],
   "source": [
    "s = md.apply(lambda x: pd.Series(x['genres']),axis=1).stack().reset_index(level=1, drop=True)\n",
    "s.name = 'genre'\n",
    "gen_md = md.drop('genres', axis=1).join(s)"
   ]
  },
  {
   "cell_type": "code",
   "execution_count": 13,
   "id": "c3ddc130",
   "metadata": {
    "_cell_guid": "759652cb-5b16-4951-995c-6a3bdbae0e4e",
    "_uuid": "1fdfea9cd4b046b11ff8f2ac4f2bea74fccb8a8b",
    "execution": {
     "iopub.execute_input": "2022-03-24T16:39:53.131963Z",
     "iopub.status.busy": "2022-03-24T16:39:53.131251Z",
     "iopub.status.idle": "2022-03-24T16:39:53.141010Z",
     "shell.execute_reply": "2022-03-24T16:39:53.141535Z",
     "shell.execute_reply.started": "2022-03-24T16:35:11.127724Z"
    },
    "papermill": {
     "duration": 0.085517,
     "end_time": "2022-03-24T16:39:53.141712",
     "exception": false,
     "start_time": "2022-03-24T16:39:53.056195",
     "status": "completed"
    },
    "tags": []
   },
   "outputs": [],
   "source": [
    "def build_chart(genre, percentile=0.85):\n",
    "    df = gen_md[gen_md['genre'] == genre]\n",
    "    vote_counts = df[df['vote_count'].notnull()]['vote_count'].astype('int')\n",
    "    vote_averages = df[df['vote_average'].notnull()]['vote_average'].astype('int')\n",
    "    C = vote_averages.mean()\n",
    "    m = vote_counts.quantile(percentile)\n",
    "    \n",
    "    qualified = df[(df['vote_count'] >= m) & (df['vote_count'].notnull()) & (df['vote_average'].notnull())][['title', 'year', 'vote_count', 'vote_average', 'popularity']]\n",
    "    qualified['vote_count'] = qualified['vote_count'].astype('int')\n",
    "    qualified['vote_average'] = qualified['vote_average'].astype('int')\n",
    "    \n",
    "    qualified['wr'] = qualified.apply(lambda x: (x['vote_count']/(x['vote_count']+m) * x['vote_average']) + (m/(m+x['vote_count']) * C), axis=1)\n",
    "    qualified = qualified.sort_values('wr', ascending=False).head(250)\n",
    "    \n",
    "    return qualified"
   ]
  },
  {
   "cell_type": "markdown",
   "id": "84ea85f9",
   "metadata": {
    "_cell_guid": "55f22de0-0df9-405a-9197-df5a8c0e8466",
    "_uuid": "a76ce0f8a8f614aa6f23cb9a6e0fd6af6d048642",
    "papermill": {
     "duration": 0.074163,
     "end_time": "2022-03-24T16:39:53.290192",
     "exception": false,
     "start_time": "2022-03-24T16:39:53.216029",
     "status": "completed"
    },
    "tags": []
   },
   "source": [
    "### Top Romance Movies"
   ]
  },
  {
   "cell_type": "code",
   "execution_count": 14,
   "id": "51167a88",
   "metadata": {
    "_cell_guid": "af61da24-494b-48ac-b7b7-64ec0eaedaf8",
    "_uuid": "bf2816495a16de1bb84dc826fd33eee7e663f45d",
    "execution": {
     "iopub.execute_input": "2022-03-24T16:39:53.446559Z",
     "iopub.status.busy": "2022-03-24T16:39:53.445613Z",
     "iopub.status.idle": "2022-03-24T16:39:53.610377Z",
     "shell.execute_reply": "2022-03-24T16:39:53.610878Z",
     "shell.execute_reply.started": "2022-03-24T16:35:11.139227Z"
    },
    "papermill": {
     "duration": 0.24572,
     "end_time": "2022-03-24T16:39:53.611056",
     "exception": false,
     "start_time": "2022-03-24T16:39:53.365336",
     "status": "completed"
    },
    "tags": []
   },
   "outputs": [
    {
     "data": {
      "text/html": [
       "<div>\n",
       "<style scoped>\n",
       "    .dataframe tbody tr th:only-of-type {\n",
       "        vertical-align: middle;\n",
       "    }\n",
       "\n",
       "    .dataframe tbody tr th {\n",
       "        vertical-align: top;\n",
       "    }\n",
       "\n",
       "    .dataframe thead th {\n",
       "        text-align: right;\n",
       "    }\n",
       "</style>\n",
       "<table border=\"1\" class=\"dataframe\">\n",
       "  <thead>\n",
       "    <tr style=\"text-align: right;\">\n",
       "      <th></th>\n",
       "      <th>title</th>\n",
       "      <th>year</th>\n",
       "      <th>vote_count</th>\n",
       "      <th>vote_average</th>\n",
       "      <th>popularity</th>\n",
       "      <th>wr</th>\n",
       "    </tr>\n",
       "  </thead>\n",
       "  <tbody>\n",
       "    <tr>\n",
       "      <th>10309</th>\n",
       "      <td>Dilwale Dulhania Le Jayenge</td>\n",
       "      <td>1995</td>\n",
       "      <td>661</td>\n",
       "      <td>9</td>\n",
       "      <td>34.457024</td>\n",
       "      <td>8.565285</td>\n",
       "    </tr>\n",
       "    <tr>\n",
       "      <th>351</th>\n",
       "      <td>Forrest Gump</td>\n",
       "      <td>1994</td>\n",
       "      <td>8147</td>\n",
       "      <td>8</td>\n",
       "      <td>48.307194</td>\n",
       "      <td>7.971357</td>\n",
       "    </tr>\n",
       "    <tr>\n",
       "      <th>876</th>\n",
       "      <td>Vertigo</td>\n",
       "      <td>1958</td>\n",
       "      <td>1162</td>\n",
       "      <td>8</td>\n",
       "      <td>18.20822</td>\n",
       "      <td>7.811667</td>\n",
       "    </tr>\n",
       "    <tr>\n",
       "      <th>40251</th>\n",
       "      <td>Your Name.</td>\n",
       "      <td>2016</td>\n",
       "      <td>1030</td>\n",
       "      <td>8</td>\n",
       "      <td>34.461252</td>\n",
       "      <td>7.789489</td>\n",
       "    </tr>\n",
       "    <tr>\n",
       "      <th>883</th>\n",
       "      <td>Some Like It Hot</td>\n",
       "      <td>1959</td>\n",
       "      <td>835</td>\n",
       "      <td>8</td>\n",
       "      <td>11.845107</td>\n",
       "      <td>7.745154</td>\n",
       "    </tr>\n",
       "    <tr>\n",
       "      <th>1132</th>\n",
       "      <td>Cinema Paradiso</td>\n",
       "      <td>1988</td>\n",
       "      <td>834</td>\n",
       "      <td>8</td>\n",
       "      <td>14.177005</td>\n",
       "      <td>7.744878</td>\n",
       "    </tr>\n",
       "    <tr>\n",
       "      <th>19901</th>\n",
       "      <td>Paperman</td>\n",
       "      <td>2012</td>\n",
       "      <td>734</td>\n",
       "      <td>8</td>\n",
       "      <td>7.198633</td>\n",
       "      <td>7.713951</td>\n",
       "    </tr>\n",
       "    <tr>\n",
       "      <th>37863</th>\n",
       "      <td>Sing Street</td>\n",
       "      <td>2016</td>\n",
       "      <td>669</td>\n",
       "      <td>8</td>\n",
       "      <td>10.672862</td>\n",
       "      <td>7.689483</td>\n",
       "    </tr>\n",
       "    <tr>\n",
       "      <th>882</th>\n",
       "      <td>The Apartment</td>\n",
       "      <td>1960</td>\n",
       "      <td>498</td>\n",
       "      <td>8</td>\n",
       "      <td>11.994281</td>\n",
       "      <td>7.599317</td>\n",
       "    </tr>\n",
       "    <tr>\n",
       "      <th>38718</th>\n",
       "      <td>The Handmaiden</td>\n",
       "      <td>2016</td>\n",
       "      <td>453</td>\n",
       "      <td>8</td>\n",
       "      <td>16.727405</td>\n",
       "      <td>7.566166</td>\n",
       "    </tr>\n",
       "    <tr>\n",
       "      <th>3189</th>\n",
       "      <td>City Lights</td>\n",
       "      <td>1931</td>\n",
       "      <td>444</td>\n",
       "      <td>8</td>\n",
       "      <td>10.891524</td>\n",
       "      <td>7.558867</td>\n",
       "    </tr>\n",
       "    <tr>\n",
       "      <th>24886</th>\n",
       "      <td>The Way He Looks</td>\n",
       "      <td>2014</td>\n",
       "      <td>262</td>\n",
       "      <td>8</td>\n",
       "      <td>5.711274</td>\n",
       "      <td>7.331363</td>\n",
       "    </tr>\n",
       "    <tr>\n",
       "      <th>45437</th>\n",
       "      <td>In a Heartbeat</td>\n",
       "      <td>2017</td>\n",
       "      <td>146</td>\n",
       "      <td>8</td>\n",
       "      <td>20.82178</td>\n",
       "      <td>7.003959</td>\n",
       "    </tr>\n",
       "    <tr>\n",
       "      <th>1639</th>\n",
       "      <td>Titanic</td>\n",
       "      <td>1997</td>\n",
       "      <td>7770</td>\n",
       "      <td>7</td>\n",
       "      <td>26.88907</td>\n",
       "      <td>6.981546</td>\n",
       "    </tr>\n",
       "    <tr>\n",
       "      <th>19731</th>\n",
       "      <td>Silver Linings Playbook</td>\n",
       "      <td>2012</td>\n",
       "      <td>4840</td>\n",
       "      <td>7</td>\n",
       "      <td>14.488111</td>\n",
       "      <td>6.970581</td>\n",
       "    </tr>\n",
       "  </tbody>\n",
       "</table>\n",
       "</div>"
      ],
      "text/plain": [
       "                             title  year  vote_count  vote_average popularity  \\\n",
       "10309  Dilwale Dulhania Le Jayenge  1995         661             9  34.457024   \n",
       "351                   Forrest Gump  1994        8147             8  48.307194   \n",
       "876                        Vertigo  1958        1162             8   18.20822   \n",
       "40251                   Your Name.  2016        1030             8  34.461252   \n",
       "883               Some Like It Hot  1959         835             8  11.845107   \n",
       "1132               Cinema Paradiso  1988         834             8  14.177005   \n",
       "19901                     Paperman  2012         734             8   7.198633   \n",
       "37863                  Sing Street  2016         669             8  10.672862   \n",
       "882                  The Apartment  1960         498             8  11.994281   \n",
       "38718               The Handmaiden  2016         453             8  16.727405   \n",
       "3189                   City Lights  1931         444             8  10.891524   \n",
       "24886             The Way He Looks  2014         262             8   5.711274   \n",
       "45437               In a Heartbeat  2017         146             8   20.82178   \n",
       "1639                       Titanic  1997        7770             7   26.88907   \n",
       "19731      Silver Linings Playbook  2012        4840             7  14.488111   \n",
       "\n",
       "             wr  \n",
       "10309  8.565285  \n",
       "351    7.971357  \n",
       "876    7.811667  \n",
       "40251  7.789489  \n",
       "883    7.745154  \n",
       "1132   7.744878  \n",
       "19901  7.713951  \n",
       "37863  7.689483  \n",
       "882    7.599317  \n",
       "38718  7.566166  \n",
       "3189   7.558867  \n",
       "24886  7.331363  \n",
       "45437  7.003959  \n",
       "1639   6.981546  \n",
       "19731  6.970581  "
      ]
     },
     "execution_count": 14,
     "metadata": {},
     "output_type": "execute_result"
    }
   ],
   "source": [
    "build_chart('Romance').head(15)"
   ]
  },
  {
   "cell_type": "markdown",
   "id": "af8cff53",
   "metadata": {
    "_cell_guid": "b6e1eb8b-6109-40ff-ab8a-37bd047c03ac",
    "_uuid": "0b0f95bdf966d06c2d7053535d46183b03a75cc1",
    "papermill": {
     "duration": 0.100888,
     "end_time": "2022-03-24T16:39:53.806836",
     "exception": false,
     "start_time": "2022-03-24T16:39:53.705948",
     "status": "completed"
    },
    "tags": []
   },
   "source": [
    "## Content Based Recommender"
   ]
  },
  {
   "cell_type": "code",
   "execution_count": 15,
   "id": "beb22ace",
   "metadata": {
    "_cell_guid": "bd5f4440-f90d-46a4-8640-204541d99d40",
    "_uuid": "dc237e14c8346bdd51624d21b6b082399afd3062",
    "execution": {
     "iopub.execute_input": "2022-03-24T16:39:53.984368Z",
     "iopub.status.busy": "2022-03-24T16:39:53.981961Z",
     "iopub.status.idle": "2022-03-24T16:39:54.009082Z",
     "shell.execute_reply": "2022-03-24T16:39:54.009607Z",
     "shell.execute_reply.started": "2022-03-24T16:35:11.316440Z"
    },
    "papermill": {
     "duration": 0.110539,
     "end_time": "2022-03-24T16:39:54.009837",
     "exception": false,
     "start_time": "2022-03-24T16:39:53.899298",
     "status": "completed"
    },
    "tags": []
   },
   "outputs": [],
   "source": [
    "links_small = pd.read_csv('../input/links_small.csv')\n",
    "links_small = links_small[links_small['tmdbId'].notnull()]['tmdbId'].astype('int')"
   ]
  },
  {
   "cell_type": "code",
   "execution_count": 16,
   "id": "3d31811b",
   "metadata": {
    "_cell_guid": "cda91291-c8d5-475a-8b0f-ab4030d29f62",
    "_uuid": "6c5af69fefa991d46594401a5eac0656e5980484",
    "execution": {
     "iopub.execute_input": "2022-03-24T16:39:54.167862Z",
     "iopub.status.busy": "2022-03-24T16:39:54.166874Z",
     "iopub.status.idle": "2022-03-24T16:39:54.191806Z",
     "shell.execute_reply": "2022-03-24T16:39:54.192346Z",
     "shell.execute_reply.started": "2022-03-24T16:35:11.339300Z"
    },
    "papermill": {
     "duration": 0.105437,
     "end_time": "2022-03-24T16:39:54.192525",
     "exception": false,
     "start_time": "2022-03-24T16:39:54.087088",
     "status": "completed"
    },
    "tags": []
   },
   "outputs": [],
   "source": [
    "md = md.drop([19730, 29503, 35587])"
   ]
  },
  {
   "cell_type": "code",
   "execution_count": 17,
   "id": "6a4adc0b",
   "metadata": {
    "_cell_guid": "f68cb861-7c30-4b3d-b655-520379e61d70",
    "_uuid": "87eb84540a3c22a3f7bf54edeee5b491ef571416",
    "execution": {
     "iopub.execute_input": "2022-03-24T16:39:54.345549Z",
     "iopub.status.busy": "2022-03-24T16:39:54.344568Z",
     "iopub.status.idle": "2022-03-24T16:39:54.377486Z",
     "shell.execute_reply": "2022-03-24T16:39:54.378027Z",
     "shell.execute_reply.started": "2022-03-24T16:35:11.368099Z"
    },
    "papermill": {
     "duration": 0.110263,
     "end_time": "2022-03-24T16:39:54.378207",
     "exception": false,
     "start_time": "2022-03-24T16:39:54.267944",
     "status": "completed"
    },
    "tags": []
   },
   "outputs": [],
   "source": [
    "md['id'] = md['id'].astype('int')"
   ]
  },
  {
   "cell_type": "code",
   "execution_count": 18,
   "id": "954b51cf",
   "metadata": {
    "_cell_guid": "0b968a6a-6b0d-4df6-9e28-91c06e6c36c2",
    "_uuid": "3f2a7f55a030beeb06b713f854e4ca6a69b5ca13",
    "execution": {
     "iopub.execute_input": "2022-03-24T16:39:54.540384Z",
     "iopub.status.busy": "2022-03-24T16:39:54.535692Z",
     "iopub.status.idle": "2022-03-24T16:39:54.550919Z",
     "shell.execute_reply": "2022-03-24T16:39:54.551413Z",
     "shell.execute_reply.started": "2022-03-24T16:35:11.405583Z"
    },
    "papermill": {
     "duration": 0.097688,
     "end_time": "2022-03-24T16:39:54.551602",
     "exception": false,
     "start_time": "2022-03-24T16:39:54.453914",
     "status": "completed"
    },
    "tags": []
   },
   "outputs": [
    {
     "data": {
      "text/plain": [
       "(9099, 25)"
      ]
     },
     "execution_count": 18,
     "metadata": {},
     "output_type": "execute_result"
    }
   ],
   "source": [
    "smd = md[md['id'].isin(links_small)]\n",
    "smd.shape"
   ]
  },
  {
   "cell_type": "markdown",
   "id": "865c4769",
   "metadata": {
    "_cell_guid": "1e73645a-0b0b-441f-93b4-ce92069e1852",
    "_uuid": "c41800b7a9d8b8d48ba1c22b8430929f54e9884e",
    "papermill": {
     "duration": 0.075752,
     "end_time": "2022-03-24T16:39:54.705399",
     "exception": false,
     "start_time": "2022-03-24T16:39:54.629647",
     "status": "completed"
    },
    "tags": []
   },
   "source": [
    "### Movie Description Based Recommender"
   ]
  },
  {
   "cell_type": "code",
   "execution_count": 19,
   "id": "91ba20ae",
   "metadata": {
    "_cell_guid": "c880adf9-051b-40cd-8e95-cd8c4acabb17",
    "_uuid": "453bdc941ba5a1e86e17b0f106dc44040c0defdf",
    "execution": {
     "iopub.execute_input": "2022-03-24T16:39:54.863865Z",
     "iopub.status.busy": "2022-03-24T16:39:54.859856Z",
     "iopub.status.idle": "2022-03-24T16:39:54.876747Z",
     "shell.execute_reply": "2022-03-24T16:39:54.877309Z",
     "shell.execute_reply.started": "2022-03-24T16:35:11.421740Z"
    },
    "papermill": {
     "duration": 0.096156,
     "end_time": "2022-03-24T16:39:54.877488",
     "exception": false,
     "start_time": "2022-03-24T16:39:54.781332",
     "status": "completed"
    },
    "tags": []
   },
   "outputs": [],
   "source": [
    "smd['tagline'] = smd['tagline'].fillna('')\n",
    "smd['description'] = smd['overview'] + smd['tagline']\n",
    "smd['description'] = smd['description'].fillna('')"
   ]
  },
  {
   "cell_type": "code",
   "execution_count": 20,
   "id": "5e4dd6fa",
   "metadata": {
    "_cell_guid": "6b385623-a978-43c4-b66a-813d5e9c6790",
    "_uuid": "f9d99726d9f2667fa6fc15ce5c5e31d36a970828",
    "execution": {
     "iopub.execute_input": "2022-03-24T16:39:55.032900Z",
     "iopub.status.busy": "2022-03-24T16:39:55.031933Z",
     "iopub.status.idle": "2022-03-24T16:39:57.328948Z",
     "shell.execute_reply": "2022-03-24T16:39:57.328377Z",
     "shell.execute_reply.started": "2022-03-24T16:35:11.440412Z"
    },
    "papermill": {
     "duration": 2.377158,
     "end_time": "2022-03-24T16:39:57.329101",
     "exception": false,
     "start_time": "2022-03-24T16:39:54.951943",
     "status": "completed"
    },
    "tags": []
   },
   "outputs": [],
   "source": [
    "tf = TfidfVectorizer(analyzer='word',ngram_range=(1, 2),min_df=0, stop_words='english')\n",
    "tfidf_matrix = tf.fit_transform(smd['description'])"
   ]
  },
  {
   "cell_type": "code",
   "execution_count": 21,
   "id": "5e0a7b24",
   "metadata": {
    "_cell_guid": "5e18427c-2ef8-4a98-84e2-323a4af72ade",
    "_uuid": "6c21cc05d3c13ea637028f2e5836c719986e47c7",
    "execution": {
     "iopub.execute_input": "2022-03-24T16:39:57.492182Z",
     "iopub.status.busy": "2022-03-24T16:39:57.491263Z",
     "iopub.status.idle": "2022-03-24T16:39:57.496425Z",
     "shell.execute_reply": "2022-03-24T16:39:57.495655Z",
     "shell.execute_reply.started": "2022-03-24T16:35:13.623801Z"
    },
    "papermill": {
     "duration": 0.086904,
     "end_time": "2022-03-24T16:39:57.496577",
     "exception": false,
     "start_time": "2022-03-24T16:39:57.409673",
     "status": "completed"
    },
    "tags": []
   },
   "outputs": [
    {
     "data": {
      "text/plain": [
       "(9099, 268124)"
      ]
     },
     "execution_count": 21,
     "metadata": {},
     "output_type": "execute_result"
    }
   ],
   "source": [
    "tfidf_matrix.shape"
   ]
  },
  {
   "cell_type": "code",
   "execution_count": 22,
   "id": "7ae32757",
   "metadata": {
    "_cell_guid": "8b27b34f-a585-42bf-b35f-1de4e9181fce",
    "_uuid": "e324c0e951287359f7810a3da85631ebc7725c53",
    "execution": {
     "iopub.execute_input": "2022-03-24T16:39:57.659788Z",
     "iopub.status.busy": "2022-03-24T16:39:57.658597Z",
     "iopub.status.idle": "2022-03-24T16:39:59.431808Z",
     "shell.execute_reply": "2022-03-24T16:39:59.431175Z",
     "shell.execute_reply.started": "2022-03-24T16:35:13.631645Z"
    },
    "papermill": {
     "duration": 1.855467,
     "end_time": "2022-03-24T16:39:59.431996",
     "exception": false,
     "start_time": "2022-03-24T16:39:57.576529",
     "status": "completed"
    },
    "tags": []
   },
   "outputs": [],
   "source": [
    "cosine_sim = linear_kernel(tfidf_matrix, tfidf_matrix)"
   ]
  },
  {
   "cell_type": "code",
   "execution_count": 23,
   "id": "7d2aa4f1",
   "metadata": {
    "_cell_guid": "148a994f-3e7f-4350-9ea3-41eb95f106e8",
    "_uuid": "ebb6823a9dce997d965dc89049a06512cbfb17af",
    "execution": {
     "iopub.execute_input": "2022-03-24T16:39:59.597521Z",
     "iopub.status.busy": "2022-03-24T16:39:59.596624Z",
     "iopub.status.idle": "2022-03-24T16:39:59.600043Z",
     "shell.execute_reply": "2022-03-24T16:39:59.600536Z",
     "shell.execute_reply.started": "2022-03-24T16:35:15.336844Z"
    },
    "papermill": {
     "duration": 0.093081,
     "end_time": "2022-03-24T16:39:59.600708",
     "exception": false,
     "start_time": "2022-03-24T16:39:59.507627",
     "status": "completed"
    },
    "tags": []
   },
   "outputs": [
    {
     "data": {
      "text/plain": [
       "array([1.        , 0.00680476, 0.        , ..., 0.        , 0.00344913,\n",
       "       0.        ])"
      ]
     },
     "execution_count": 23,
     "metadata": {},
     "output_type": "execute_result"
    }
   ],
   "source": [
    "cosine_sim[0]"
   ]
  },
  {
   "cell_type": "code",
   "execution_count": 24,
   "id": "6ceaa230",
   "metadata": {
    "_cell_guid": "446d22fd-e7c1-42a6-851b-593f60175ce0",
    "_uuid": "ff016d61895e99fe7b0495c51b86917bdbe2712d",
    "execution": {
     "iopub.execute_input": "2022-03-24T16:39:59.756172Z",
     "iopub.status.busy": "2022-03-24T16:39:59.755135Z",
     "iopub.status.idle": "2022-03-24T16:39:59.772215Z",
     "shell.execute_reply": "2022-03-24T16:39:59.772802Z",
     "shell.execute_reply.started": "2022-03-24T16:35:15.344388Z"
    },
    "papermill": {
     "duration": 0.09715,
     "end_time": "2022-03-24T16:39:59.773002",
     "exception": false,
     "start_time": "2022-03-24T16:39:59.675852",
     "status": "completed"
    },
    "tags": []
   },
   "outputs": [],
   "source": [
    "smd = smd.reset_index()\n",
    "titles = smd['title']\n",
    "indices = pd.Series(smd.index, index=smd['title'])"
   ]
  },
  {
   "cell_type": "code",
   "execution_count": 25,
   "id": "daad7807",
   "metadata": {
    "_cell_guid": "d7352ae7-fbc3-4459-b257-76a44000ce6a",
    "_uuid": "62f49212a8b935ef63a3643e1bb6f629521f05b7",
    "execution": {
     "iopub.execute_input": "2022-03-24T16:39:59.928229Z",
     "iopub.status.busy": "2022-03-24T16:39:59.927252Z",
     "iopub.status.idle": "2022-03-24T16:39:59.933049Z",
     "shell.execute_reply": "2022-03-24T16:39:59.933520Z",
     "shell.execute_reply.started": "2022-03-24T16:35:15.367389Z"
    },
    "papermill": {
     "duration": 0.08606,
     "end_time": "2022-03-24T16:39:59.933705",
     "exception": false,
     "start_time": "2022-03-24T16:39:59.847645",
     "status": "completed"
    },
    "tags": []
   },
   "outputs": [],
   "source": [
    "def get_recommendations(title):\n",
    "    idx = indices[title]\n",
    "    sim_scores = list(enumerate(cosine_sim[idx]))\n",
    "    sim_scores = sorted(sim_scores, key=lambda x: x[1], reverse=True)\n",
    "    sim_scores = sim_scores[1:31]\n",
    "    movie_indices = [i[0] for i in sim_scores]\n",
    "    return titles.iloc[movie_indices]"
   ]
  },
  {
   "cell_type": "code",
   "execution_count": 26,
   "id": "7c7bacaa",
   "metadata": {
    "_cell_guid": "73bb1266-5797-47ce-b61f-fa9e0d7ce077",
    "_uuid": "46f418fd12b35e86a7a2026ef1975be822cadde3",
    "execution": {
     "iopub.execute_input": "2022-03-24T16:40:00.088535Z",
     "iopub.status.busy": "2022-03-24T16:40:00.087575Z",
     "iopub.status.idle": "2022-03-24T16:40:00.111477Z",
     "shell.execute_reply": "2022-03-24T16:40:00.110952Z",
     "shell.execute_reply.started": "2022-03-24T16:35:15.374118Z"
    },
    "papermill": {
     "duration": 0.102445,
     "end_time": "2022-03-24T16:40:00.111632",
     "exception": false,
     "start_time": "2022-03-24T16:40:00.009187",
     "status": "completed"
    },
    "tags": []
   },
   "outputs": [
    {
     "data": {
      "text/plain": [
       "973      The Godfather: Part II\n",
       "8387                 The Family\n",
       "3509                       Made\n",
       "4196         Johnny Dangerously\n",
       "29               Shanghai Triad\n",
       "5667                       Fury\n",
       "2412             American Movie\n",
       "1582    The Godfather: Part III\n",
       "4221                    8 Women\n",
       "2159              Summer of Sam\n",
       "Name: title, dtype: object"
      ]
     },
     "execution_count": 26,
     "metadata": {},
     "output_type": "execute_result"
    }
   ],
   "source": [
    "get_recommendations('The Godfather').head(10)"
   ]
  },
  {
   "cell_type": "code",
   "execution_count": 27,
   "id": "54aa9227",
   "metadata": {
    "_cell_guid": "d074112e-79ea-4188-a1e0-addd9bed3c91",
    "_uuid": "f92e310b0225b4a1b8b46e8a87fe2f2b82c158ed",
    "execution": {
     "iopub.execute_input": "2022-03-24T16:40:00.274459Z",
     "iopub.status.busy": "2022-03-24T16:40:00.273458Z",
     "iopub.status.idle": "2022-03-24T16:40:00.291266Z",
     "shell.execute_reply": "2022-03-24T16:40:00.292202Z",
     "shell.execute_reply.started": "2022-03-24T16:35:15.402051Z"
    },
    "papermill": {
     "duration": 0.102205,
     "end_time": "2022-03-24T16:40:00.292635",
     "exception": false,
     "start_time": "2022-03-24T16:40:00.190430",
     "status": "completed"
    },
    "tags": []
   },
   "outputs": [
    {
     "data": {
      "text/plain": [
       "7931                      The Dark Knight Rises\n",
       "132                              Batman Forever\n",
       "1113                             Batman Returns\n",
       "8227    Batman: The Dark Knight Returns, Part 2\n",
       "7565                 Batman: Under the Red Hood\n",
       "524                                      Batman\n",
       "7901                           Batman: Year One\n",
       "2579               Batman: Mask of the Phantasm\n",
       "2696                                        JFK\n",
       "8165    Batman: The Dark Knight Returns, Part 1\n",
       "Name: title, dtype: object"
      ]
     },
     "execution_count": 27,
     "metadata": {},
     "output_type": "execute_result"
    }
   ],
   "source": [
    "get_recommendations('The Dark Knight').head(10)"
   ]
  },
  {
   "cell_type": "markdown",
   "id": "307b0526",
   "metadata": {
    "_cell_guid": "3a0dd8ba-a580-4c12-95eb-ca04e2191b35",
    "_uuid": "4089c7bcdf984e596e80d2fc6c2a74fe8c05a41f",
    "papermill": {
     "duration": 0.075127,
     "end_time": "2022-03-24T16:40:00.446499",
     "exception": false,
     "start_time": "2022-03-24T16:40:00.371372",
     "status": "completed"
    },
    "tags": []
   },
   "source": [
    "### Metadata Based Recommender"
   ]
  },
  {
   "cell_type": "code",
   "execution_count": 28,
   "id": "cb1c3ebf",
   "metadata": {
    "_cell_guid": "85d2d5e0-165a-4ad5-860d-be1d1aa20c59",
    "_uuid": "aa399813ff512b0d7671e9bfcebf7f41ee139275",
    "execution": {
     "iopub.execute_input": "2022-03-24T16:40:00.606159Z",
     "iopub.status.busy": "2022-03-24T16:40:00.605470Z",
     "iopub.status.idle": "2022-03-24T16:40:05.060559Z",
     "shell.execute_reply": "2022-03-24T16:40:05.059550Z",
     "shell.execute_reply.started": "2022-03-24T16:35:15.433733Z"
    },
    "papermill": {
     "duration": 4.537217,
     "end_time": "2022-03-24T16:40:05.060708",
     "exception": false,
     "start_time": "2022-03-24T16:40:00.523491",
     "status": "completed"
    },
    "tags": []
   },
   "outputs": [],
   "source": [
    "credits = pd.read_csv('../input/credits.csv')\n",
    "keywords = pd.read_csv('../input/keywords.csv')"
   ]
  },
  {
   "cell_type": "code",
   "execution_count": 29,
   "id": "48476556",
   "metadata": {
    "_cell_guid": "5dc74705-17ee-41b8-932b-dc612c9426c5",
    "_uuid": "e82eb38c3ae53d500ad335943b4bd30a19f22d1a",
    "execution": {
     "iopub.execute_input": "2022-03-24T16:40:05.225997Z",
     "iopub.status.busy": "2022-03-24T16:40:05.224830Z",
     "iopub.status.idle": "2022-03-24T16:40:05.230978Z",
     "shell.execute_reply": "2022-03-24T16:40:05.230428Z",
     "shell.execute_reply.started": "2022-03-24T16:35:19.375518Z"
    },
    "papermill": {
     "duration": 0.090742,
     "end_time": "2022-03-24T16:40:05.231143",
     "exception": false,
     "start_time": "2022-03-24T16:40:05.140401",
     "status": "completed"
    },
    "tags": []
   },
   "outputs": [],
   "source": [
    "keywords['id'] = keywords['id'].astype('int')\n",
    "credits['id'] = credits['id'].astype('int')\n",
    "md['id'] = md['id'].astype('int')"
   ]
  },
  {
   "cell_type": "code",
   "execution_count": 30,
   "id": "823d3cdf",
   "metadata": {
    "_cell_guid": "a120fca0-7236-4b97-97f8-970363ed02ed",
    "_uuid": "2f9fc363f77649b3ee41132e0b45f366726a25cb",
    "execution": {
     "iopub.execute_input": "2022-03-24T16:40:05.387324Z",
     "iopub.status.busy": "2022-03-24T16:40:05.386571Z",
     "iopub.status.idle": "2022-03-24T16:40:05.394269Z",
     "shell.execute_reply": "2022-03-24T16:40:05.393674Z",
     "shell.execute_reply.started": "2022-03-24T16:35:19.386540Z"
    },
    "papermill": {
     "duration": 0.08745,
     "end_time": "2022-03-24T16:40:05.394418",
     "exception": false,
     "start_time": "2022-03-24T16:40:05.306968",
     "status": "completed"
    },
    "tags": []
   },
   "outputs": [
    {
     "data": {
      "text/plain": [
       "(45463, 25)"
      ]
     },
     "execution_count": 30,
     "metadata": {},
     "output_type": "execute_result"
    }
   ],
   "source": [
    "md.shape"
   ]
  },
  {
   "cell_type": "code",
   "execution_count": 31,
   "id": "3ccac5bd",
   "metadata": {
    "_cell_guid": "39fbbbcd-a0d9-4ad3-9187-e6e2bdb4358e",
    "_uuid": "4b1ebc18f31eb017c6f4f173ab270807c73c002a",
    "execution": {
     "iopub.execute_input": "2022-03-24T16:40:05.557032Z",
     "iopub.status.busy": "2022-03-24T16:40:05.556355Z",
     "iopub.status.idle": "2022-03-24T16:40:05.719583Z",
     "shell.execute_reply": "2022-03-24T16:40:05.718964Z",
     "shell.execute_reply.started": "2022-03-24T16:35:19.396714Z"
    },
    "papermill": {
     "duration": 0.248316,
     "end_time": "2022-03-24T16:40:05.719726",
     "exception": false,
     "start_time": "2022-03-24T16:40:05.471410",
     "status": "completed"
    },
    "tags": []
   },
   "outputs": [],
   "source": [
    "md = md.merge(credits, on='id')\n",
    "md = md.merge(keywords, on='id')"
   ]
  },
  {
   "cell_type": "code",
   "execution_count": 32,
   "id": "2b4fc956",
   "metadata": {
    "_cell_guid": "ecdbd741-d8b1-4083-ba26-6c347915f16d",
    "_uuid": "a017f13dce80c88ce2f9fc0d63c374c93e827baa",
    "execution": {
     "iopub.execute_input": "2022-03-24T16:40:05.886129Z",
     "iopub.status.busy": "2022-03-24T16:40:05.885389Z",
     "iopub.status.idle": "2022-03-24T16:40:05.938851Z",
     "shell.execute_reply": "2022-03-24T16:40:05.938031Z",
     "shell.execute_reply.started": "2022-03-24T16:35:19.558416Z"
    },
    "papermill": {
     "duration": 0.141642,
     "end_time": "2022-03-24T16:40:05.939004",
     "exception": false,
     "start_time": "2022-03-24T16:40:05.797362",
     "status": "completed"
    },
    "tags": []
   },
   "outputs": [
    {
     "data": {
      "text/plain": [
       "(9219, 28)"
      ]
     },
     "execution_count": 32,
     "metadata": {},
     "output_type": "execute_result"
    }
   ],
   "source": [
    "smd = md[md['id'].isin(links_small)]\n",
    "smd.shape"
   ]
  },
  {
   "cell_type": "code",
   "execution_count": 33,
   "id": "240b4173",
   "metadata": {
    "_cell_guid": "6c221b12-c5fd-4eb6-b61a-b7d3f395d2ab",
    "_uuid": "7ff7d25e2c175f2d71e02cf408ed113e10a148f1",
    "execution": {
     "iopub.execute_input": "2022-03-24T16:40:06.118926Z",
     "iopub.status.busy": "2022-03-24T16:40:06.117882Z",
     "iopub.status.idle": "2022-03-24T16:40:20.551914Z",
     "shell.execute_reply": "2022-03-24T16:40:20.551268Z",
     "shell.execute_reply.started": "2022-03-24T16:35:19.608259Z"
    },
    "papermill": {
     "duration": 14.533883,
     "end_time": "2022-03-24T16:40:20.552072",
     "exception": false,
     "start_time": "2022-03-24T16:40:06.018189",
     "status": "completed"
    },
    "tags": []
   },
   "outputs": [],
   "source": [
    "smd['cast'] = smd['cast'].apply(literal_eval)\n",
    "smd['crew'] = smd['crew'].apply(literal_eval)\n",
    "smd['keywords'] = smd['keywords'].apply(literal_eval)\n",
    "smd['cast_size'] = smd['cast'].apply(lambda x: len(x))\n",
    "smd['crew_size'] = smd['crew'].apply(lambda x: len(x))"
   ]
  },
  {
   "cell_type": "code",
   "execution_count": 34,
   "id": "3fb475c1",
   "metadata": {
    "_cell_guid": "0e19fe24-e206-4743-a96c-fb828707c74d",
    "_uuid": "4207baed79a12ab3314fc816076bbff032d3e186",
    "execution": {
     "iopub.execute_input": "2022-03-24T16:40:20.711373Z",
     "iopub.status.busy": "2022-03-24T16:40:20.710386Z",
     "iopub.status.idle": "2022-03-24T16:40:20.716861Z",
     "shell.execute_reply": "2022-03-24T16:40:20.716258Z",
     "shell.execute_reply.started": "2022-03-24T16:35:33.651503Z"
    },
    "papermill": {
     "duration": 0.087747,
     "end_time": "2022-03-24T16:40:20.717038",
     "exception": false,
     "start_time": "2022-03-24T16:40:20.629291",
     "status": "completed"
    },
    "tags": []
   },
   "outputs": [],
   "source": [
    "def get_director(x):\n",
    "    for i in x:\n",
    "        if i['job'] == 'Director':\n",
    "            return i['name']\n",
    "    return np.nan"
   ]
  },
  {
   "cell_type": "code",
   "execution_count": 35,
   "id": "c8e6951e",
   "metadata": {
    "_cell_guid": "d4468b32-a67e-4e31-bd56-1f4467884d1d",
    "_uuid": "64c84be00eb7eb7c0b9c4d9a1605e247c11ce2c6",
    "execution": {
     "iopub.execute_input": "2022-03-24T16:40:20.892930Z",
     "iopub.status.busy": "2022-03-24T16:40:20.890083Z",
     "iopub.status.idle": "2022-03-24T16:40:20.923687Z",
     "shell.execute_reply": "2022-03-24T16:40:20.924758Z",
     "shell.execute_reply.started": "2022-03-24T16:35:33.657742Z"
    },
    "papermill": {
     "duration": 0.127642,
     "end_time": "2022-03-24T16:40:20.925045",
     "exception": false,
     "start_time": "2022-03-24T16:40:20.797403",
     "status": "completed"
    },
    "tags": []
   },
   "outputs": [],
   "source": [
    "smd['director'] = smd['crew'].apply(get_director)"
   ]
  },
  {
   "cell_type": "code",
   "execution_count": 36,
   "id": "8e734db8",
   "metadata": {
    "_cell_guid": "cc3ff524-20c5-478c-b45e-9875c473e48b",
    "_uuid": "fd58e3dc015c81678ca1181a8de9c6e967ffdb22",
    "execution": {
     "iopub.execute_input": "2022-03-24T16:40:21.102900Z",
     "iopub.status.busy": "2022-03-24T16:40:21.101799Z",
     "iopub.status.idle": "2022-03-24T16:40:21.278116Z",
     "shell.execute_reply": "2022-03-24T16:40:21.277418Z",
     "shell.execute_reply.started": "2022-03-24T16:35:33.693711Z"
    },
    "papermill": {
     "duration": 0.26083,
     "end_time": "2022-03-24T16:40:21.278299",
     "exception": false,
     "start_time": "2022-03-24T16:40:21.017469",
     "status": "completed"
    },
    "tags": []
   },
   "outputs": [],
   "source": [
    "smd['cast'] = smd['cast'].apply(lambda x: [i['name'] for i in x] if isinstance(x, list) else [])\n",
    "smd['cast'] = smd['cast'].apply(lambda x: x[:3] if len(x) >=3 else x)"
   ]
  },
  {
   "cell_type": "code",
   "execution_count": 37,
   "id": "342760a3",
   "metadata": {
    "_cell_guid": "2768dfe6-303a-4f88-81be-39b91c675202",
    "_uuid": "16c1509135d80d41051b8fb46ded3a6aad67e8f0",
    "execution": {
     "iopub.execute_input": "2022-03-24T16:40:21.445717Z",
     "iopub.status.busy": "2022-03-24T16:40:21.445038Z",
     "iopub.status.idle": "2022-03-24T16:40:21.474343Z",
     "shell.execute_reply": "2022-03-24T16:40:21.474893Z",
     "shell.execute_reply.started": "2022-03-24T16:35:33.855769Z"
    },
    "papermill": {
     "duration": 0.121526,
     "end_time": "2022-03-24T16:40:21.475077",
     "exception": false,
     "start_time": "2022-03-24T16:40:21.353551",
     "status": "completed"
    },
    "tags": []
   },
   "outputs": [],
   "source": [
    "smd['keywords'] = smd['keywords'].apply(lambda x: [i['name'] for i in x] if isinstance(x, list) else [])"
   ]
  },
  {
   "cell_type": "code",
   "execution_count": 38,
   "id": "8c30e9dd",
   "metadata": {
    "_cell_guid": "6c5ffd70-ef6b-4fd0-be3d-b3c6a0d72df0",
    "_uuid": "01d86674d50b903fedc79750c4031ca88a739449",
    "execution": {
     "iopub.execute_input": "2022-03-24T16:40:21.641427Z",
     "iopub.status.busy": "2022-03-24T16:40:21.640722Z",
     "iopub.status.idle": "2022-03-24T16:40:21.692182Z",
     "shell.execute_reply": "2022-03-24T16:40:21.692711Z",
     "shell.execute_reply.started": "2022-03-24T16:35:33.894248Z"
    },
    "papermill": {
     "duration": 0.140734,
     "end_time": "2022-03-24T16:40:21.692924",
     "exception": false,
     "start_time": "2022-03-24T16:40:21.552190",
     "status": "completed"
    },
    "tags": []
   },
   "outputs": [],
   "source": [
    "smd['cast'] = smd['cast'].apply(lambda x: [str.lower(i.replace(\" \", \"\")) for i in x])"
   ]
  },
  {
   "cell_type": "code",
   "execution_count": 39,
   "id": "7597a5cc",
   "metadata": {
    "_cell_guid": "5c1377ba-aad0-4a3f-8bcb-063c9c93f087",
    "_uuid": "7e16f8b131ff73d33463fd070774a24a5ce474df",
    "execution": {
     "iopub.execute_input": "2022-03-24T16:40:21.858308Z",
     "iopub.status.busy": "2022-03-24T16:40:21.857611Z",
     "iopub.status.idle": "2022-03-24T16:40:22.043116Z",
     "shell.execute_reply": "2022-03-24T16:40:22.042497Z",
     "shell.execute_reply.started": "2022-03-24T16:35:33.950342Z"
    },
    "papermill": {
     "duration": 0.272965,
     "end_time": "2022-03-24T16:40:22.043305",
     "exception": false,
     "start_time": "2022-03-24T16:40:21.770340",
     "status": "completed"
    },
    "tags": []
   },
   "outputs": [],
   "source": [
    "smd['director'] = smd['director'].astype('str').apply(lambda x: str.lower(x.replace(\" \", \"\")))\n",
    "smd['director'] = smd['director'].apply(lambda x: [x,x, x])"
   ]
  },
  {
   "cell_type": "code",
   "execution_count": 40,
   "id": "25907677",
   "metadata": {
    "_cell_guid": "3dc8f545-4666-4cc0-8473-2870a69e7ff0",
    "_uuid": "5740d11531f7305f4edf13b0270dc014382a2b5c",
    "execution": {
     "iopub.execute_input": "2022-03-24T16:40:22.209748Z",
     "iopub.status.busy": "2022-03-24T16:40:22.209080Z",
     "iopub.status.idle": "2022-03-24T16:40:25.853666Z",
     "shell.execute_reply": "2022-03-24T16:40:25.853005Z",
     "shell.execute_reply.started": "2022-03-24T16:35:34.122655Z"
    },
    "papermill": {
     "duration": 3.728766,
     "end_time": "2022-03-24T16:40:25.853835",
     "exception": false,
     "start_time": "2022-03-24T16:40:22.125069",
     "status": "completed"
    },
    "tags": []
   },
   "outputs": [],
   "source": [
    "s = smd.apply(lambda x: pd.Series(x['keywords']),axis=1).stack().reset_index(level=1, drop=True)\n",
    "s.name = 'keyword'"
   ]
  },
  {
   "cell_type": "code",
   "execution_count": 41,
   "id": "a068bc88",
   "metadata": {
    "_cell_guid": "21e684ab-f6d3-4014-a05a-c28f995b4972",
    "_uuid": "1374a54bff3f7f0fdc872bfebff9f81d1dfcea69",
    "execution": {
     "iopub.execute_input": "2022-03-24T16:40:26.038807Z",
     "iopub.status.busy": "2022-03-24T16:40:26.037719Z",
     "iopub.status.idle": "2022-03-24T16:40:26.047940Z",
     "shell.execute_reply": "2022-03-24T16:40:26.047297Z",
     "shell.execute_reply.started": "2022-03-24T16:35:37.699355Z"
    },
    "papermill": {
     "duration": 0.116168,
     "end_time": "2022-03-24T16:40:26.048084",
     "exception": false,
     "start_time": "2022-03-24T16:40:25.931916",
     "status": "completed"
    },
    "tags": []
   },
   "outputs": [
    {
     "data": {
      "text/plain": [
       "independent film        610\n",
       "woman director          550\n",
       "murder                  399\n",
       "duringcreditsstinger    327\n",
       "based on novel          318\n",
       "Name: keyword, dtype: int64"
      ]
     },
     "execution_count": 41,
     "metadata": {},
     "output_type": "execute_result"
    }
   ],
   "source": [
    "s = s.value_counts()\n",
    "s[:5]"
   ]
  },
  {
   "cell_type": "code",
   "execution_count": 42,
   "id": "c8a78206",
   "metadata": {
    "_cell_guid": "8cabd79b-dfab-46d8-922d-e204173d8103",
    "_uuid": "bf05fb571b1ee60335af20acb9cf5d7fee6254e8",
    "execution": {
     "iopub.execute_input": "2022-03-24T16:40:26.211648Z",
     "iopub.status.busy": "2022-03-24T16:40:26.210703Z",
     "iopub.status.idle": "2022-03-24T16:40:26.213752Z",
     "shell.execute_reply": "2022-03-24T16:40:26.213136Z",
     "shell.execute_reply.started": "2022-03-24T16:35:37.732146Z"
    },
    "papermill": {
     "duration": 0.088521,
     "end_time": "2022-03-24T16:40:26.213932",
     "exception": false,
     "start_time": "2022-03-24T16:40:26.125411",
     "status": "completed"
    },
    "tags": []
   },
   "outputs": [],
   "source": [
    "s = s[s > 1]"
   ]
  },
  {
   "cell_type": "code",
   "execution_count": 43,
   "id": "6093d510",
   "metadata": {
    "_cell_guid": "2d10427d-9339-46fa-b699-060b27d6d25f",
    "_uuid": "1d2a07e4de352df9d3e2230d36e691d166a1675c",
    "execution": {
     "iopub.execute_input": "2022-03-24T16:40:26.375966Z",
     "iopub.status.busy": "2022-03-24T16:40:26.375240Z",
     "iopub.status.idle": "2022-03-24T16:40:26.382295Z",
     "shell.execute_reply": "2022-03-24T16:40:26.382830Z",
     "shell.execute_reply.started": "2022-03-24T16:35:37.744236Z"
    },
    "papermill": {
     "duration": 0.088095,
     "end_time": "2022-03-24T16:40:26.383041",
     "exception": false,
     "start_time": "2022-03-24T16:40:26.294946",
     "status": "completed"
    },
    "tags": []
   },
   "outputs": [
    {
     "data": {
      "text/plain": [
       "'dog'"
      ]
     },
     "execution_count": 43,
     "metadata": {},
     "output_type": "execute_result"
    }
   ],
   "source": [
    "stemmer = SnowballStemmer('english')\n",
    "stemmer.stem('dogs')"
   ]
  },
  {
   "cell_type": "code",
   "execution_count": 44,
   "id": "ea5a4c55",
   "metadata": {
    "_cell_guid": "5379c8d7-42a5-471a-84f8-bbd6cadf2e5c",
    "_uuid": "3bad77061d810e52b0d9fecfd26873c101167d00",
    "execution": {
     "iopub.execute_input": "2022-03-24T16:40:26.543802Z",
     "iopub.status.busy": "2022-03-24T16:40:26.543118Z",
     "iopub.status.idle": "2022-03-24T16:40:26.549120Z",
     "shell.execute_reply": "2022-03-24T16:40:26.548436Z",
     "shell.execute_reply.started": "2022-03-24T16:35:37.756767Z"
    },
    "papermill": {
     "duration": 0.087337,
     "end_time": "2022-03-24T16:40:26.549275",
     "exception": false,
     "start_time": "2022-03-24T16:40:26.461938",
     "status": "completed"
    },
    "tags": []
   },
   "outputs": [],
   "source": [
    "def filter_keywords(x):\n",
    "    words = []\n",
    "    for i in x:\n",
    "        if i in s:\n",
    "            words.append(i)\n",
    "    return words"
   ]
  },
  {
   "cell_type": "code",
   "execution_count": 45,
   "id": "9d660199",
   "metadata": {
    "_cell_guid": "959063e5-841d-408a-a10e-1f1437756b7c",
    "_uuid": "2a939eb8846871c606da0f654a1a9a978270e99f",
    "execution": {
     "iopub.execute_input": "2022-03-24T16:40:26.746367Z",
     "iopub.status.busy": "2022-03-24T16:40:26.737213Z",
     "iopub.status.idle": "2022-03-24T16:40:28.030688Z",
     "shell.execute_reply": "2022-03-24T16:40:28.031316Z",
     "shell.execute_reply.started": "2022-03-24T16:35:37.767681Z"
    },
    "papermill": {
     "duration": 1.397237,
     "end_time": "2022-03-24T16:40:28.031504",
     "exception": false,
     "start_time": "2022-03-24T16:40:26.634267",
     "status": "completed"
    },
    "tags": []
   },
   "outputs": [],
   "source": [
    "smd['keywords'] = smd['keywords'].apply(filter_keywords)\n",
    "smd['keywords'] = smd['keywords'].apply(lambda x: [stemmer.stem(i) for i in x])\n",
    "smd['keywords'] = smd['keywords'].apply(lambda x: [str.lower(i.replace(\" \", \"\")) for i in x])"
   ]
  },
  {
   "cell_type": "code",
   "execution_count": 46,
   "id": "f5101eeb",
   "metadata": {
    "_cell_guid": "95c45262-2715-47b7-af65-1eb396c37d33",
    "_uuid": "6ff4da392e31cf628f91dd244cc4e76d63c40601",
    "execution": {
     "iopub.execute_input": "2022-03-24T16:40:28.190829Z",
     "iopub.status.busy": "2022-03-24T16:40:28.190177Z",
     "iopub.status.idle": "2022-03-24T16:40:28.237734Z",
     "shell.execute_reply": "2022-03-24T16:40:28.237114Z",
     "shell.execute_reply.started": "2022-03-24T16:35:39.032936Z"
    },
    "papermill": {
     "duration": 0.128415,
     "end_time": "2022-03-24T16:40:28.237896",
     "exception": false,
     "start_time": "2022-03-24T16:40:28.109481",
     "status": "completed"
    },
    "tags": []
   },
   "outputs": [],
   "source": [
    "smd['soup'] = smd['keywords'] + smd['cast'] + smd['director'] + smd['genres']\n",
    "smd['soup'] = smd['soup'].apply(lambda x: ' '.join(x))"
   ]
  },
  {
   "cell_type": "code",
   "execution_count": 47,
   "id": "8d8278df",
   "metadata": {
    "_cell_guid": "7f9aa1bc-351b-47a1-b909-0d87efe93adc",
    "_uuid": "c758030ce02bb4beed606e41a3e0a51b659768f0",
    "execution": {
     "iopub.execute_input": "2022-03-24T16:40:28.402368Z",
     "iopub.status.busy": "2022-03-24T16:40:28.396949Z",
     "iopub.status.idle": "2022-03-24T16:40:29.290566Z",
     "shell.execute_reply": "2022-03-24T16:40:29.289974Z",
     "shell.execute_reply.started": "2022-03-24T16:35:39.079137Z"
    },
    "papermill": {
     "duration": 0.974218,
     "end_time": "2022-03-24T16:40:29.290723",
     "exception": false,
     "start_time": "2022-03-24T16:40:28.316505",
     "status": "completed"
    },
    "tags": []
   },
   "outputs": [],
   "source": [
    "count = CountVectorizer(analyzer='word',ngram_range=(1, 2),min_df=0, stop_words='english')\n",
    "count_matrix = count.fit_transform(smd['soup'])"
   ]
  },
  {
   "cell_type": "code",
   "execution_count": 48,
   "id": "b5c6859e",
   "metadata": {
    "_cell_guid": "c462b8af-1eb8-499e-8e50-839811aebe9d",
    "_uuid": "defccf8a2c851672447b4f53ff1a8efddafccb33",
    "execution": {
     "iopub.execute_input": "2022-03-24T16:40:29.458535Z",
     "iopub.status.busy": "2022-03-24T16:40:29.457538Z",
     "iopub.status.idle": "2022-03-24T16:40:31.251637Z",
     "shell.execute_reply": "2022-03-24T16:40:31.251040Z",
     "shell.execute_reply.started": "2022-03-24T16:35:39.884115Z"
    },
    "papermill": {
     "duration": 1.879941,
     "end_time": "2022-03-24T16:40:31.251781",
     "exception": false,
     "start_time": "2022-03-24T16:40:29.371840",
     "status": "completed"
    },
    "tags": []
   },
   "outputs": [],
   "source": [
    "cosine_sim = cosine_similarity(count_matrix, count_matrix)"
   ]
  },
  {
   "cell_type": "code",
   "execution_count": 49,
   "id": "7695b139",
   "metadata": {
    "_cell_guid": "d7ee34aa-da42-46bb-93e5-51e893286353",
    "_uuid": "ffa7edd804b3ea3065c6d428fbb613ae7cd203e3",
    "execution": {
     "iopub.execute_input": "2022-03-24T16:40:31.418117Z",
     "iopub.status.busy": "2022-03-24T16:40:31.417400Z",
     "iopub.status.idle": "2022-03-24T16:40:31.440967Z",
     "shell.execute_reply": "2022-03-24T16:40:31.440371Z",
     "shell.execute_reply.started": "2022-03-24T16:35:41.651394Z"
    },
    "papermill": {
     "duration": 0.107883,
     "end_time": "2022-03-24T16:40:31.441115",
     "exception": false,
     "start_time": "2022-03-24T16:40:31.333232",
     "status": "completed"
    },
    "tags": []
   },
   "outputs": [],
   "source": [
    "smd = smd.reset_index()\n",
    "titles = smd['title']\n",
    "indices = pd.Series(smd.index, index=smd['title'])"
   ]
  },
  {
   "cell_type": "code",
   "execution_count": 50,
   "id": "93ba5ee6",
   "metadata": {
    "_cell_guid": "e755e943-495b-46df-983b-2f8ad80fcd6a",
    "_uuid": "f6e2b6b232e992c783150a0ac5a7038c6de6db37",
    "execution": {
     "iopub.execute_input": "2022-03-24T16:40:31.624548Z",
     "iopub.status.busy": "2022-03-24T16:40:31.623867Z",
     "iopub.status.idle": "2022-03-24T16:40:31.627615Z",
     "shell.execute_reply": "2022-03-24T16:40:31.626982Z",
     "shell.execute_reply.started": "2022-03-24T16:35:41.676180Z"
    },
    "papermill": {
     "duration": 0.104362,
     "end_time": "2022-03-24T16:40:31.627771",
     "exception": false,
     "start_time": "2022-03-24T16:40:31.523409",
     "status": "completed"
    },
    "tags": []
   },
   "outputs": [
    {
     "data": {
      "text/plain": [
       "8031         The Dark Knight Rises\n",
       "6218                 Batman Begins\n",
       "6623                  The Prestige\n",
       "2085                     Following\n",
       "7648                     Inception\n",
       "4145                      Insomnia\n",
       "3381                       Memento\n",
       "8613                  Interstellar\n",
       "7659    Batman: Under the Red Hood\n",
       "1134                Batman Returns\n",
       "Name: title, dtype: object"
      ]
     },
     "execution_count": 50,
     "metadata": {},
     "output_type": "execute_result"
    }
   ],
   "source": [
    "get_recommendations('The Dark Knight').head(10)"
   ]
  },
  {
   "cell_type": "code",
   "execution_count": 51,
   "id": "e04af8c8",
   "metadata": {
    "_cell_guid": "ef4d3551-2c66-4732-9be1-10425962d5e9",
    "_uuid": "688b323c3b96224127465e8d48e67688ba4be202",
    "execution": {
     "iopub.execute_input": "2022-03-24T16:40:31.800425Z",
     "iopub.status.busy": "2022-03-24T16:40:31.799733Z",
     "iopub.status.idle": "2022-03-24T16:40:31.805934Z",
     "shell.execute_reply": "2022-03-24T16:40:31.806403Z",
     "shell.execute_reply.started": "2022-03-24T16:35:41.698601Z"
    },
    "papermill": {
     "duration": 0.099302,
     "end_time": "2022-03-24T16:40:31.806583",
     "exception": false,
     "start_time": "2022-03-24T16:40:31.707281",
     "status": "completed"
    },
    "tags": []
   },
   "outputs": [
    {
     "data": {
      "text/plain": [
       "3319               Head Over Heels\n",
       "4763                 Freaky Friday\n",
       "1329              The House of Yes\n",
       "6277              Just Like Heaven\n",
       "7905         Mr. Popper's Penguins\n",
       "7332    Ghosts of Girlfriends Past\n",
       "6959     The Spiderwick Chronicles\n",
       "8883                      The DUFF\n",
       "6698         It's a Boy Girl Thing\n",
       "7377       I Love You, Beth Cooper\n",
       "Name: title, dtype: object"
      ]
     },
     "execution_count": 51,
     "metadata": {},
     "output_type": "execute_result"
    }
   ],
   "source": [
    "get_recommendations('Mean Girls').head(10)"
   ]
  },
  {
   "cell_type": "code",
   "execution_count": 52,
   "id": "206780e5",
   "metadata": {
    "_cell_guid": "1b5f0675-caa1-41bf-8a9a-ba89b0e07872",
    "_uuid": "0a7cc50433dcd13586dc1ee825b0880ad0c83869",
    "execution": {
     "iopub.execute_input": "2022-03-24T16:40:32.005988Z",
     "iopub.status.busy": "2022-03-24T16:40:32.000053Z",
     "iopub.status.idle": "2022-03-24T16:40:32.010254Z",
     "shell.execute_reply": "2022-03-24T16:40:32.010771Z",
     "shell.execute_reply.started": "2022-03-24T16:35:41.721597Z"
    },
    "papermill": {
     "duration": 0.104902,
     "end_time": "2022-03-24T16:40:32.010968",
     "exception": false,
     "start_time": "2022-03-24T16:40:31.906066",
     "status": "completed"
    },
    "tags": []
   },
   "outputs": [],
   "source": [
    "def improved_recommendations(title):\n",
    "    idx = indices[title]\n",
    "    sim_scores = list(enumerate(cosine_sim[idx]))\n",
    "    sim_scores = sorted(sim_scores, key=lambda x: x[1], reverse=True)\n",
    "    sim_scores = sim_scores[1:26]\n",
    "    movie_indices = [i[0] for i in sim_scores]\n",
    "    \n",
    "    movies = smd.iloc[movie_indices][['title', 'vote_count', 'vote_average', 'year']]\n",
    "    vote_counts = movies[movies['vote_count'].notnull()]['vote_count'].astype('int')\n",
    "    vote_averages = movies[movies['vote_average'].notnull()]['vote_average'].astype('int')\n",
    "    C = vote_averages.mean()\n",
    "    m = vote_counts.quantile(0.60)\n",
    "    qualified = movies[(movies['vote_count'] >= m) & (movies['vote_count'].notnull()) & (movies['vote_average'].notnull())]\n",
    "    qualified['vote_count'] = qualified['vote_count'].astype('int')\n",
    "    qualified['vote_average'] = qualified['vote_average'].astype('int')\n",
    "    qualified['wr'] = qualified.apply(weighted_rating, axis=1)\n",
    "    qualified = qualified.sort_values('wr', ascending=False).head(10)\n",
    "    return qualified"
   ]
  },
  {
   "cell_type": "code",
   "execution_count": 53,
   "id": "14bdfbba",
   "metadata": {
    "_cell_guid": "7f4ce0f9-ebc0-464d-a3d4-084f156d02b4",
    "_uuid": "c36a9662253e9a6bb1ae008e6cabd8dee7aaaa73",
    "execution": {
     "iopub.execute_input": "2022-03-24T16:40:32.188607Z",
     "iopub.status.busy": "2022-03-24T16:40:32.187881Z",
     "iopub.status.idle": "2022-03-24T16:40:32.207907Z",
     "shell.execute_reply": "2022-03-24T16:40:32.208466Z",
     "shell.execute_reply.started": "2022-03-24T16:35:41.733511Z"
    },
    "papermill": {
     "duration": 0.116488,
     "end_time": "2022-03-24T16:40:32.208642",
     "exception": false,
     "start_time": "2022-03-24T16:40:32.092154",
     "status": "completed"
    },
    "tags": []
   },
   "outputs": [
    {
     "data": {
      "text/html": [
       "<div>\n",
       "<style scoped>\n",
       "    .dataframe tbody tr th:only-of-type {\n",
       "        vertical-align: middle;\n",
       "    }\n",
       "\n",
       "    .dataframe tbody tr th {\n",
       "        vertical-align: top;\n",
       "    }\n",
       "\n",
       "    .dataframe thead th {\n",
       "        text-align: right;\n",
       "    }\n",
       "</style>\n",
       "<table border=\"1\" class=\"dataframe\">\n",
       "  <thead>\n",
       "    <tr style=\"text-align: right;\">\n",
       "      <th></th>\n",
       "      <th>title</th>\n",
       "      <th>vote_count</th>\n",
       "      <th>vote_average</th>\n",
       "      <th>year</th>\n",
       "      <th>wr</th>\n",
       "    </tr>\n",
       "  </thead>\n",
       "  <tbody>\n",
       "    <tr>\n",
       "      <th>7648</th>\n",
       "      <td>Inception</td>\n",
       "      <td>14075</td>\n",
       "      <td>8</td>\n",
       "      <td>2010</td>\n",
       "      <td>7.917588</td>\n",
       "    </tr>\n",
       "    <tr>\n",
       "      <th>8613</th>\n",
       "      <td>Interstellar</td>\n",
       "      <td>11187</td>\n",
       "      <td>8</td>\n",
       "      <td>2014</td>\n",
       "      <td>7.897107</td>\n",
       "    </tr>\n",
       "    <tr>\n",
       "      <th>6623</th>\n",
       "      <td>The Prestige</td>\n",
       "      <td>4510</td>\n",
       "      <td>8</td>\n",
       "      <td>2006</td>\n",
       "      <td>7.758148</td>\n",
       "    </tr>\n",
       "    <tr>\n",
       "      <th>3381</th>\n",
       "      <td>Memento</td>\n",
       "      <td>4168</td>\n",
       "      <td>8</td>\n",
       "      <td>2000</td>\n",
       "      <td>7.740175</td>\n",
       "    </tr>\n",
       "    <tr>\n",
       "      <th>8031</th>\n",
       "      <td>The Dark Knight Rises</td>\n",
       "      <td>9263</td>\n",
       "      <td>7</td>\n",
       "      <td>2012</td>\n",
       "      <td>6.921448</td>\n",
       "    </tr>\n",
       "    <tr>\n",
       "      <th>6218</th>\n",
       "      <td>Batman Begins</td>\n",
       "      <td>7511</td>\n",
       "      <td>7</td>\n",
       "      <td>2005</td>\n",
       "      <td>6.904127</td>\n",
       "    </tr>\n",
       "    <tr>\n",
       "      <th>1134</th>\n",
       "      <td>Batman Returns</td>\n",
       "      <td>1706</td>\n",
       "      <td>6</td>\n",
       "      <td>1992</td>\n",
       "      <td>5.846862</td>\n",
       "    </tr>\n",
       "    <tr>\n",
       "      <th>132</th>\n",
       "      <td>Batman Forever</td>\n",
       "      <td>1529</td>\n",
       "      <td>5</td>\n",
       "      <td>1995</td>\n",
       "      <td>5.054144</td>\n",
       "    </tr>\n",
       "    <tr>\n",
       "      <th>9024</th>\n",
       "      <td>Batman v Superman: Dawn of Justice</td>\n",
       "      <td>7189</td>\n",
       "      <td>5</td>\n",
       "      <td>2016</td>\n",
       "      <td>5.013943</td>\n",
       "    </tr>\n",
       "    <tr>\n",
       "      <th>1260</th>\n",
       "      <td>Batman &amp; Robin</td>\n",
       "      <td>1447</td>\n",
       "      <td>4</td>\n",
       "      <td>1997</td>\n",
       "      <td>4.287233</td>\n",
       "    </tr>\n",
       "  </tbody>\n",
       "</table>\n",
       "</div>"
      ],
      "text/plain": [
       "                                   title  vote_count  vote_average  year  \\\n",
       "7648                           Inception       14075             8  2010   \n",
       "8613                        Interstellar       11187             8  2014   \n",
       "6623                        The Prestige        4510             8  2006   \n",
       "3381                             Memento        4168             8  2000   \n",
       "8031               The Dark Knight Rises        9263             7  2012   \n",
       "6218                       Batman Begins        7511             7  2005   \n",
       "1134                      Batman Returns        1706             6  1992   \n",
       "132                       Batman Forever        1529             5  1995   \n",
       "9024  Batman v Superman: Dawn of Justice        7189             5  2016   \n",
       "1260                      Batman & Robin        1447             4  1997   \n",
       "\n",
       "            wr  \n",
       "7648  7.917588  \n",
       "8613  7.897107  \n",
       "6623  7.758148  \n",
       "3381  7.740175  \n",
       "8031  6.921448  \n",
       "6218  6.904127  \n",
       "1134  5.846862  \n",
       "132   5.054144  \n",
       "9024  5.013943  \n",
       "1260  4.287233  "
      ]
     },
     "execution_count": 53,
     "metadata": {},
     "output_type": "execute_result"
    }
   ],
   "source": [
    "improved_recommendations('The Dark Knight')"
   ]
  },
  {
   "cell_type": "code",
   "execution_count": 54,
   "id": "69985659",
   "metadata": {
    "_cell_guid": "69a93363-d82c-47e3-94fc-d59a219a4f3a",
    "_uuid": "a04523fa7c17a9ae25d5fcade4c817d35e8b6f19",
    "execution": {
     "iopub.execute_input": "2022-03-24T16:40:32.373392Z",
     "iopub.status.busy": "2022-03-24T16:40:32.372693Z",
     "iopub.status.idle": "2022-03-24T16:40:32.402589Z",
     "shell.execute_reply": "2022-03-24T16:40:32.403179Z",
     "shell.execute_reply.started": "2022-03-24T16:35:41.772519Z"
    },
    "papermill": {
     "duration": 0.112637,
     "end_time": "2022-03-24T16:40:32.403361",
     "exception": false,
     "start_time": "2022-03-24T16:40:32.290724",
     "status": "completed"
    },
    "tags": []
   },
   "outputs": [
    {
     "data": {
      "text/html": [
       "<div>\n",
       "<style scoped>\n",
       "    .dataframe tbody tr th:only-of-type {\n",
       "        vertical-align: middle;\n",
       "    }\n",
       "\n",
       "    .dataframe tbody tr th {\n",
       "        vertical-align: top;\n",
       "    }\n",
       "\n",
       "    .dataframe thead th {\n",
       "        text-align: right;\n",
       "    }\n",
       "</style>\n",
       "<table border=\"1\" class=\"dataframe\">\n",
       "  <thead>\n",
       "    <tr style=\"text-align: right;\">\n",
       "      <th></th>\n",
       "      <th>title</th>\n",
       "      <th>vote_count</th>\n",
       "      <th>vote_average</th>\n",
       "      <th>year</th>\n",
       "      <th>wr</th>\n",
       "    </tr>\n",
       "  </thead>\n",
       "  <tbody>\n",
       "    <tr>\n",
       "      <th>1547</th>\n",
       "      <td>The Breakfast Club</td>\n",
       "      <td>2189</td>\n",
       "      <td>7</td>\n",
       "      <td>1985</td>\n",
       "      <td>6.709602</td>\n",
       "    </tr>\n",
       "    <tr>\n",
       "      <th>390</th>\n",
       "      <td>Dazed and Confused</td>\n",
       "      <td>588</td>\n",
       "      <td>7</td>\n",
       "      <td>1993</td>\n",
       "      <td>6.254682</td>\n",
       "    </tr>\n",
       "    <tr>\n",
       "      <th>8883</th>\n",
       "      <td>The DUFF</td>\n",
       "      <td>1372</td>\n",
       "      <td>6</td>\n",
       "      <td>2015</td>\n",
       "      <td>5.818541</td>\n",
       "    </tr>\n",
       "    <tr>\n",
       "      <th>3712</th>\n",
       "      <td>The Princess Diaries</td>\n",
       "      <td>1063</td>\n",
       "      <td>6</td>\n",
       "      <td>2001</td>\n",
       "      <td>5.781086</td>\n",
       "    </tr>\n",
       "    <tr>\n",
       "      <th>4763</th>\n",
       "      <td>Freaky Friday</td>\n",
       "      <td>919</td>\n",
       "      <td>6</td>\n",
       "      <td>2003</td>\n",
       "      <td>5.757786</td>\n",
       "    </tr>\n",
       "    <tr>\n",
       "      <th>6277</th>\n",
       "      <td>Just Like Heaven</td>\n",
       "      <td>595</td>\n",
       "      <td>6</td>\n",
       "      <td>2005</td>\n",
       "      <td>5.681521</td>\n",
       "    </tr>\n",
       "    <tr>\n",
       "      <th>6959</th>\n",
       "      <td>The Spiderwick Chronicles</td>\n",
       "      <td>593</td>\n",
       "      <td>6</td>\n",
       "      <td>2008</td>\n",
       "      <td>5.680901</td>\n",
       "    </tr>\n",
       "    <tr>\n",
       "      <th>7494</th>\n",
       "      <td>American Pie Presents: The Book of Love</td>\n",
       "      <td>454</td>\n",
       "      <td>5</td>\n",
       "      <td>2009</td>\n",
       "      <td>5.119690</td>\n",
       "    </tr>\n",
       "    <tr>\n",
       "      <th>7332</th>\n",
       "      <td>Ghosts of Girlfriends Past</td>\n",
       "      <td>716</td>\n",
       "      <td>5</td>\n",
       "      <td>2009</td>\n",
       "      <td>5.092422</td>\n",
       "    </tr>\n",
       "    <tr>\n",
       "      <th>7905</th>\n",
       "      <td>Mr. Popper's Penguins</td>\n",
       "      <td>775</td>\n",
       "      <td>5</td>\n",
       "      <td>2011</td>\n",
       "      <td>5.087912</td>\n",
       "    </tr>\n",
       "  </tbody>\n",
       "</table>\n",
       "</div>"
      ],
      "text/plain": [
       "                                        title  vote_count  vote_average  year  \\\n",
       "1547                       The Breakfast Club        2189             7  1985   \n",
       "390                        Dazed and Confused         588             7  1993   \n",
       "8883                                 The DUFF        1372             6  2015   \n",
       "3712                     The Princess Diaries        1063             6  2001   \n",
       "4763                            Freaky Friday         919             6  2003   \n",
       "6277                         Just Like Heaven         595             6  2005   \n",
       "6959                The Spiderwick Chronicles         593             6  2008   \n",
       "7494  American Pie Presents: The Book of Love         454             5  2009   \n",
       "7332               Ghosts of Girlfriends Past         716             5  2009   \n",
       "7905                    Mr. Popper's Penguins         775             5  2011   \n",
       "\n",
       "            wr  \n",
       "1547  6.709602  \n",
       "390   6.254682  \n",
       "8883  5.818541  \n",
       "3712  5.781086  \n",
       "4763  5.757786  \n",
       "6277  5.681521  \n",
       "6959  5.680901  \n",
       "7494  5.119690  \n",
       "7332  5.092422  \n",
       "7905  5.087912  "
      ]
     },
     "execution_count": 54,
     "metadata": {},
     "output_type": "execute_result"
    }
   ],
   "source": [
    "improved_recommendations('Mean Girls')"
   ]
  },
  {
   "cell_type": "markdown",
   "id": "5c14fe19",
   "metadata": {
    "_cell_guid": "a9a16fac-217d-4b36-b280-ca250ee921fe",
    "_uuid": "ddc06567eb0fe770c7f3b77f3cb7b777a6923f5c",
    "papermill": {
     "duration": 0.082281,
     "end_time": "2022-03-24T16:40:32.565573",
     "exception": false,
     "start_time": "2022-03-24T16:40:32.483292",
     "status": "completed"
    },
    "tags": []
   },
   "source": [
    "## Collaborative Filtering"
   ]
  },
  {
   "cell_type": "code",
   "execution_count": 55,
   "id": "6b88a535",
   "metadata": {
    "_cell_guid": "632e75c9-0068-456a-82d5-8a8eb44e98df",
    "_uuid": "de715e5b70a605e3bd65ad50bbfa9b71aac1aef4",
    "execution": {
     "iopub.execute_input": "2022-03-24T16:40:32.734087Z",
     "iopub.status.busy": "2022-03-24T16:40:32.733447Z",
     "iopub.status.idle": "2022-03-24T16:40:32.736903Z",
     "shell.execute_reply": "2022-03-24T16:40:32.737419Z",
     "shell.execute_reply.started": "2022-03-24T16:35:41.806202Z"
    },
    "papermill": {
     "duration": 0.089405,
     "end_time": "2022-03-24T16:40:32.737595",
     "exception": false,
     "start_time": "2022-03-24T16:40:32.648190",
     "status": "completed"
    },
    "tags": []
   },
   "outputs": [],
   "source": [
    "reader = Reader()"
   ]
  },
  {
   "cell_type": "code",
   "execution_count": 56,
   "id": "ca1ed26d",
   "metadata": {
    "_cell_guid": "7b7a10d4-4f72-4c07-a514-ae5c2f0663a9",
    "_uuid": "18c484e823d3c4c1bbb91a5aa708e277c97cdaf1",
    "execution": {
     "iopub.execute_input": "2022-03-24T16:40:32.905581Z",
     "iopub.status.busy": "2022-03-24T16:40:32.904924Z",
     "iopub.status.idle": "2022-03-24T16:40:33.004469Z",
     "shell.execute_reply": "2022-03-24T16:40:33.004953Z",
     "shell.execute_reply.started": "2022-03-24T16:35:41.811714Z"
    },
    "papermill": {
     "duration": 0.187697,
     "end_time": "2022-03-24T16:40:33.005349",
     "exception": false,
     "start_time": "2022-03-24T16:40:32.817652",
     "status": "completed"
    },
    "tags": []
   },
   "outputs": [
    {
     "data": {
      "text/html": [
       "<div>\n",
       "<style scoped>\n",
       "    .dataframe tbody tr th:only-of-type {\n",
       "        vertical-align: middle;\n",
       "    }\n",
       "\n",
       "    .dataframe tbody tr th {\n",
       "        vertical-align: top;\n",
       "    }\n",
       "\n",
       "    .dataframe thead th {\n",
       "        text-align: right;\n",
       "    }\n",
       "</style>\n",
       "<table border=\"1\" class=\"dataframe\">\n",
       "  <thead>\n",
       "    <tr style=\"text-align: right;\">\n",
       "      <th></th>\n",
       "      <th>userId</th>\n",
       "      <th>movieId</th>\n",
       "      <th>rating</th>\n",
       "      <th>timestamp</th>\n",
       "    </tr>\n",
       "  </thead>\n",
       "  <tbody>\n",
       "    <tr>\n",
       "      <th>0</th>\n",
       "      <td>1</td>\n",
       "      <td>31</td>\n",
       "      <td>2.5</td>\n",
       "      <td>1260759144</td>\n",
       "    </tr>\n",
       "    <tr>\n",
       "      <th>1</th>\n",
       "      <td>1</td>\n",
       "      <td>1029</td>\n",
       "      <td>3.0</td>\n",
       "      <td>1260759179</td>\n",
       "    </tr>\n",
       "    <tr>\n",
       "      <th>2</th>\n",
       "      <td>1</td>\n",
       "      <td>1061</td>\n",
       "      <td>3.0</td>\n",
       "      <td>1260759182</td>\n",
       "    </tr>\n",
       "    <tr>\n",
       "      <th>3</th>\n",
       "      <td>1</td>\n",
       "      <td>1129</td>\n",
       "      <td>2.0</td>\n",
       "      <td>1260759185</td>\n",
       "    </tr>\n",
       "    <tr>\n",
       "      <th>4</th>\n",
       "      <td>1</td>\n",
       "      <td>1172</td>\n",
       "      <td>4.0</td>\n",
       "      <td>1260759205</td>\n",
       "    </tr>\n",
       "  </tbody>\n",
       "</table>\n",
       "</div>"
      ],
      "text/plain": [
       "   userId  movieId  rating   timestamp\n",
       "0       1       31     2.5  1260759144\n",
       "1       1     1029     3.0  1260759179\n",
       "2       1     1061     3.0  1260759182\n",
       "3       1     1129     2.0  1260759185\n",
       "4       1     1172     4.0  1260759205"
      ]
     },
     "execution_count": 56,
     "metadata": {},
     "output_type": "execute_result"
    }
   ],
   "source": [
    "ratings = pd.read_csv('../input/ratings_small.csv')\n",
    "ratings.head()"
   ]
  },
  {
   "cell_type": "code",
   "execution_count": 57,
   "id": "9ed581f3",
   "metadata": {
    "_cell_guid": "f2f755fd-c3ef-4095-add8-f88350cf1b36",
    "_uuid": "daa1711d353573b2dcf5145f1882397a2adcab27",
    "execution": {
     "iopub.execute_input": "2022-03-24T16:40:33.174784Z",
     "iopub.status.busy": "2022-03-24T16:40:33.174094Z",
     "iopub.status.idle": "2022-03-24T16:42:20.609531Z",
     "shell.execute_reply": "2022-03-24T16:42:20.608964Z",
     "shell.execute_reply.started": "2022-03-24T16:35:41.912377Z"
    },
    "papermill": {
     "duration": 107.519616,
     "end_time": "2022-03-24T16:42:20.609682",
     "exception": false,
     "start_time": "2022-03-24T16:40:33.090066",
     "status": "completed"
    },
    "tags": []
   },
   "outputs": [
    {
     "name": "stdout",
     "output_type": "stream",
     "text": [
      "Evaluating RMSE, MAE of algorithm SVD on 10 split(s).\n",
      "\n",
      "                  Fold 1  Fold 2  Fold 3  Fold 4  Fold 5  Fold 6  Fold 7  Fold 8  Fold 9  Fold 10 Mean    Std     \n",
      "RMSE (testset)    0.8832  0.8876  0.8916  0.8855  0.8942  0.8935  0.8874  0.9033  0.8992  0.8928  0.8918  0.0059  \n",
      "MAE (testset)     0.6815  0.6861  0.6852  0.6835  0.6887  0.6897  0.6797  0.6929  0.6912  0.6869  0.6865  0.0040  \n",
      "Fit time          10.44   10.43   10.46   10.34   10.30   10.32   10.35   10.36   10.38   10.30   10.37   0.05    \n",
      "Test time         0.10    0.11    0.11    0.10    0.12    0.10    0.29    0.11    0.11    0.10    0.12    0.06    \n"
     ]
    },
    {
     "data": {
      "text/plain": [
       "{'test_rmse': array([0.88323695, 0.88761195, 0.89157989, 0.88549354, 0.89416576,\n",
       "        0.89345274, 0.88741317, 0.9032528 , 0.89924306, 0.89276379]),\n",
       " 'test_mae': array([0.68146039, 0.68612606, 0.68521824, 0.68353053, 0.68871602,\n",
       "        0.68971071, 0.67966279, 0.69293675, 0.69115078, 0.68688319]),\n",
       " 'fit_time': (10.444461822509766,\n",
       "  10.430882215499878,\n",
       "  10.456187963485718,\n",
       "  10.338413953781128,\n",
       "  10.303117275238037,\n",
       "  10.32338833808899,\n",
       "  10.349575519561768,\n",
       "  10.357032299041748,\n",
       "  10.377685308456421,\n",
       "  10.304622888565063),\n",
       " 'test_time': (0.10311245918273926,\n",
       "  0.10504269599914551,\n",
       "  0.10545635223388672,\n",
       "  0.1014254093170166,\n",
       "  0.11629891395568848,\n",
       "  0.09988951683044434,\n",
       "  0.2949717044830322,\n",
       "  0.10711002349853516,\n",
       "  0.10851478576660156,\n",
       "  0.10202622413635254)}"
      ]
     },
     "execution_count": 57,
     "metadata": {},
     "output_type": "execute_result"
    }
   ],
   "source": [
    "data = Dataset.load_from_df(ratings[['userId', 'movieId', 'rating']], reader)\n",
    "svd = SVD()\n",
    "cross_validate(svd, data, measures=['RMSE', 'MAE'], cv=10, verbose=True)"
   ]
  },
  {
   "cell_type": "code",
   "execution_count": 58,
   "id": "9b3e505d",
   "metadata": {
    "_cell_guid": "b57dd617-c9aa-4928-a7de-c6b7036cc07b",
    "_uuid": "2307233c3213417079c46fcfaaf2638ef1f0059f",
    "execution": {
     "iopub.execute_input": "2022-03-24T16:42:20.795758Z",
     "iopub.status.busy": "2022-03-24T16:42:20.787037Z",
     "iopub.status.idle": "2022-03-24T16:42:20.800527Z",
     "shell.execute_reply": "2022-03-24T16:42:20.799879Z",
     "shell.execute_reply.started": "2022-03-24T16:37:27.008565Z"
    },
    "papermill": {
     "duration": 0.103085,
     "end_time": "2022-03-24T16:42:20.800678",
     "exception": false,
     "start_time": "2022-03-24T16:42:20.697593",
     "status": "completed"
    },
    "tags": []
   },
   "outputs": [
    {
     "data": {
      "text/html": [
       "<div>\n",
       "<style scoped>\n",
       "    .dataframe tbody tr th:only-of-type {\n",
       "        vertical-align: middle;\n",
       "    }\n",
       "\n",
       "    .dataframe tbody tr th {\n",
       "        vertical-align: top;\n",
       "    }\n",
       "\n",
       "    .dataframe thead th {\n",
       "        text-align: right;\n",
       "    }\n",
       "</style>\n",
       "<table border=\"1\" class=\"dataframe\">\n",
       "  <thead>\n",
       "    <tr style=\"text-align: right;\">\n",
       "      <th></th>\n",
       "      <th>userId</th>\n",
       "      <th>movieId</th>\n",
       "      <th>rating</th>\n",
       "      <th>timestamp</th>\n",
       "    </tr>\n",
       "  </thead>\n",
       "  <tbody>\n",
       "    <tr>\n",
       "      <th>0</th>\n",
       "      <td>1</td>\n",
       "      <td>31</td>\n",
       "      <td>2.5</td>\n",
       "      <td>1260759144</td>\n",
       "    </tr>\n",
       "    <tr>\n",
       "      <th>1</th>\n",
       "      <td>1</td>\n",
       "      <td>1029</td>\n",
       "      <td>3.0</td>\n",
       "      <td>1260759179</td>\n",
       "    </tr>\n",
       "    <tr>\n",
       "      <th>2</th>\n",
       "      <td>1</td>\n",
       "      <td>1061</td>\n",
       "      <td>3.0</td>\n",
       "      <td>1260759182</td>\n",
       "    </tr>\n",
       "    <tr>\n",
       "      <th>3</th>\n",
       "      <td>1</td>\n",
       "      <td>1129</td>\n",
       "      <td>2.0</td>\n",
       "      <td>1260759185</td>\n",
       "    </tr>\n",
       "    <tr>\n",
       "      <th>4</th>\n",
       "      <td>1</td>\n",
       "      <td>1172</td>\n",
       "      <td>4.0</td>\n",
       "      <td>1260759205</td>\n",
       "    </tr>\n",
       "    <tr>\n",
       "      <th>5</th>\n",
       "      <td>1</td>\n",
       "      <td>1263</td>\n",
       "      <td>2.0</td>\n",
       "      <td>1260759151</td>\n",
       "    </tr>\n",
       "    <tr>\n",
       "      <th>6</th>\n",
       "      <td>1</td>\n",
       "      <td>1287</td>\n",
       "      <td>2.0</td>\n",
       "      <td>1260759187</td>\n",
       "    </tr>\n",
       "    <tr>\n",
       "      <th>7</th>\n",
       "      <td>1</td>\n",
       "      <td>1293</td>\n",
       "      <td>2.0</td>\n",
       "      <td>1260759148</td>\n",
       "    </tr>\n",
       "    <tr>\n",
       "      <th>8</th>\n",
       "      <td>1</td>\n",
       "      <td>1339</td>\n",
       "      <td>3.5</td>\n",
       "      <td>1260759125</td>\n",
       "    </tr>\n",
       "    <tr>\n",
       "      <th>9</th>\n",
       "      <td>1</td>\n",
       "      <td>1343</td>\n",
       "      <td>2.0</td>\n",
       "      <td>1260759131</td>\n",
       "    </tr>\n",
       "    <tr>\n",
       "      <th>10</th>\n",
       "      <td>1</td>\n",
       "      <td>1371</td>\n",
       "      <td>2.5</td>\n",
       "      <td>1260759135</td>\n",
       "    </tr>\n",
       "    <tr>\n",
       "      <th>11</th>\n",
       "      <td>1</td>\n",
       "      <td>1405</td>\n",
       "      <td>1.0</td>\n",
       "      <td>1260759203</td>\n",
       "    </tr>\n",
       "    <tr>\n",
       "      <th>12</th>\n",
       "      <td>1</td>\n",
       "      <td>1953</td>\n",
       "      <td>4.0</td>\n",
       "      <td>1260759191</td>\n",
       "    </tr>\n",
       "    <tr>\n",
       "      <th>13</th>\n",
       "      <td>1</td>\n",
       "      <td>2105</td>\n",
       "      <td>4.0</td>\n",
       "      <td>1260759139</td>\n",
       "    </tr>\n",
       "    <tr>\n",
       "      <th>14</th>\n",
       "      <td>1</td>\n",
       "      <td>2150</td>\n",
       "      <td>3.0</td>\n",
       "      <td>1260759194</td>\n",
       "    </tr>\n",
       "    <tr>\n",
       "      <th>15</th>\n",
       "      <td>1</td>\n",
       "      <td>2193</td>\n",
       "      <td>2.0</td>\n",
       "      <td>1260759198</td>\n",
       "    </tr>\n",
       "    <tr>\n",
       "      <th>16</th>\n",
       "      <td>1</td>\n",
       "      <td>2294</td>\n",
       "      <td>2.0</td>\n",
       "      <td>1260759108</td>\n",
       "    </tr>\n",
       "    <tr>\n",
       "      <th>17</th>\n",
       "      <td>1</td>\n",
       "      <td>2455</td>\n",
       "      <td>2.5</td>\n",
       "      <td>1260759113</td>\n",
       "    </tr>\n",
       "    <tr>\n",
       "      <th>18</th>\n",
       "      <td>1</td>\n",
       "      <td>2968</td>\n",
       "      <td>1.0</td>\n",
       "      <td>1260759200</td>\n",
       "    </tr>\n",
       "    <tr>\n",
       "      <th>19</th>\n",
       "      <td>1</td>\n",
       "      <td>3671</td>\n",
       "      <td>3.0</td>\n",
       "      <td>1260759117</td>\n",
       "    </tr>\n",
       "  </tbody>\n",
       "</table>\n",
       "</div>"
      ],
      "text/plain": [
       "    userId  movieId  rating   timestamp\n",
       "0        1       31     2.5  1260759144\n",
       "1        1     1029     3.0  1260759179\n",
       "2        1     1061     3.0  1260759182\n",
       "3        1     1129     2.0  1260759185\n",
       "4        1     1172     4.0  1260759205\n",
       "5        1     1263     2.0  1260759151\n",
       "6        1     1287     2.0  1260759187\n",
       "7        1     1293     2.0  1260759148\n",
       "8        1     1339     3.5  1260759125\n",
       "9        1     1343     2.0  1260759131\n",
       "10       1     1371     2.5  1260759135\n",
       "11       1     1405     1.0  1260759203\n",
       "12       1     1953     4.0  1260759191\n",
       "13       1     2105     4.0  1260759139\n",
       "14       1     2150     3.0  1260759194\n",
       "15       1     2193     2.0  1260759198\n",
       "16       1     2294     2.0  1260759108\n",
       "17       1     2455     2.5  1260759113\n",
       "18       1     2968     1.0  1260759200\n",
       "19       1     3671     3.0  1260759117"
      ]
     },
     "execution_count": 58,
     "metadata": {},
     "output_type": "execute_result"
    }
   ],
   "source": [
    "ratings[ratings['userId'] == 1]"
   ]
  },
  {
   "cell_type": "code",
   "execution_count": 59,
   "id": "f657e3e1",
   "metadata": {
    "_cell_guid": "e0701e4b-dde1-4791-b96e-faa4ae40df8e",
    "_uuid": "9c22aa0cc39595a4414d227a284f92b382eab67a",
    "execution": {
     "iopub.execute_input": "2022-03-24T16:42:20.974041Z",
     "iopub.status.busy": "2022-03-24T16:42:20.973350Z",
     "iopub.status.idle": "2022-03-24T16:42:20.976833Z",
     "shell.execute_reply": "2022-03-24T16:42:20.976202Z",
     "shell.execute_reply.started": "2022-03-24T16:37:27.026737Z"
    },
    "papermill": {
     "duration": 0.092224,
     "end_time": "2022-03-24T16:42:20.976972",
     "exception": false,
     "start_time": "2022-03-24T16:42:20.884748",
     "status": "completed"
    },
    "tags": []
   },
   "outputs": [
    {
     "data": {
      "text/plain": [
       "Prediction(uid=1, iid=302, r_ui=3, est=2.8215608310190228, details={'was_impossible': False})"
      ]
     },
     "execution_count": 59,
     "metadata": {},
     "output_type": "execute_result"
    }
   ],
   "source": [
    "svd.predict(1, 302, 3)"
   ]
  },
  {
   "cell_type": "markdown",
   "id": "e866b40b",
   "metadata": {
    "_cell_guid": "248ec145-20e4-429c-8718-5c20834be1be",
    "_uuid": "b6fe882ef8417e28bb024306a3879dc67affb7c6",
    "papermill": {
     "duration": 0.083945,
     "end_time": "2022-03-24T16:42:21.143454",
     "exception": false,
     "start_time": "2022-03-24T16:42:21.059509",
     "status": "completed"
    },
    "tags": []
   },
   "source": [
    "## Hybrid Recommender"
   ]
  },
  {
   "cell_type": "code",
   "execution_count": 60,
   "id": "5a006fd7",
   "metadata": {
    "_cell_guid": "97a7efdb-9b93-4ed2-ac89-45c2f99a7304",
    "_uuid": "299a5feac15cdb6fd01f4e243949ba2424f5901c",
    "execution": {
     "iopub.execute_input": "2022-03-24T16:42:21.310222Z",
     "iopub.status.busy": "2022-03-24T16:42:21.308100Z",
     "iopub.status.idle": "2022-03-24T16:42:21.313662Z",
     "shell.execute_reply": "2022-03-24T16:42:21.312979Z",
     "shell.execute_reply.started": "2022-03-24T16:37:27.034370Z"
    },
    "papermill": {
     "duration": 0.08938,
     "end_time": "2022-03-24T16:42:21.313807",
     "exception": false,
     "start_time": "2022-03-24T16:42:21.224427",
     "status": "completed"
    },
    "tags": []
   },
   "outputs": [],
   "source": [
    "def convert_int(x):\n",
    "    try:\n",
    "        return int(x)\n",
    "    except:\n",
    "        return np.nan"
   ]
  },
  {
   "cell_type": "code",
   "execution_count": 61,
   "id": "19318aed",
   "metadata": {
    "_cell_guid": "aae5c254-a6e7-40b3-bbda-b97a2d285ecd",
    "_uuid": "1d5f8381c8951f51e9e30d30a771fc7ded9761a2",
    "execution": {
     "iopub.execute_input": "2022-03-24T16:42:21.488959Z",
     "iopub.status.busy": "2022-03-24T16:42:21.488284Z",
     "iopub.status.idle": "2022-03-24T16:42:21.525506Z",
     "shell.execute_reply": "2022-03-24T16:42:21.524950Z",
     "shell.execute_reply.started": "2022-03-24T16:37:27.047589Z"
    },
    "papermill": {
     "duration": 0.125678,
     "end_time": "2022-03-24T16:42:21.525667",
     "exception": false,
     "start_time": "2022-03-24T16:42:21.399989",
     "status": "completed"
    },
    "tags": []
   },
   "outputs": [],
   "source": [
    "id_map = pd.read_csv('../input/links_small.csv')[['movieId', 'tmdbId']]\n",
    "id_map['tmdbId'] = id_map['tmdbId'].apply(convert_int)\n",
    "id_map.columns = ['movieId', 'id']\n",
    "id_map = id_map.merge(smd[['title', 'id']], on='id').set_index('title')\n",
    "#id_map = id_map.set_index('tmdbId')"
   ]
  },
  {
   "cell_type": "code",
   "execution_count": 62,
   "id": "dc132463",
   "metadata": {
    "_cell_guid": "07adb6c6-af45-47cb-ae9f-6ab64f64e3e4",
    "_uuid": "c2c54697ee62ecb46fdb33ffb53dcc27e5397253",
    "execution": {
     "iopub.execute_input": "2022-03-24T16:42:21.700461Z",
     "iopub.status.busy": "2022-03-24T16:42:21.699209Z",
     "iopub.status.idle": "2022-03-24T16:42:21.704286Z",
     "shell.execute_reply": "2022-03-24T16:42:21.704904Z",
     "shell.execute_reply.started": "2022-03-24T16:37:27.093055Z"
    },
    "papermill": {
     "duration": 0.096053,
     "end_time": "2022-03-24T16:42:21.705091",
     "exception": false,
     "start_time": "2022-03-24T16:42:21.609038",
     "status": "completed"
    },
    "tags": []
   },
   "outputs": [],
   "source": [
    "indices_map = id_map.set_index('id')"
   ]
  },
  {
   "cell_type": "code",
   "execution_count": 63,
   "id": "5a21e668",
   "metadata": {
    "_cell_guid": "46b03dde-afd4-45c3-a733-7ad894a31edb",
    "_uuid": "92291dbdbd9c9161d500476609c9cf95247e2b24",
    "execution": {
     "iopub.execute_input": "2022-03-24T16:42:21.882933Z",
     "iopub.status.busy": "2022-03-24T16:42:21.882160Z",
     "iopub.status.idle": "2022-03-24T16:42:21.892754Z",
     "shell.execute_reply": "2022-03-24T16:42:21.893642Z",
     "shell.execute_reply.started": "2022-03-24T16:37:27.100940Z"
    },
    "papermill": {
     "duration": 0.107267,
     "end_time": "2022-03-24T16:42:21.893903",
     "exception": false,
     "start_time": "2022-03-24T16:42:21.786636",
     "status": "completed"
    },
    "tags": []
   },
   "outputs": [],
   "source": [
    "def hybrid(userId, title):\n",
    "    idx = indices[title]\n",
    "    tmdbId = id_map.loc[title]['id']\n",
    "    #print(idx)\n",
    "    movie_id = id_map.loc[title]['movieId']\n",
    "    \n",
    "    sim_scores = list(enumerate(cosine_sim[int(idx)]))\n",
    "    sim_scores = sorted(sim_scores, key=lambda x: x[1], reverse=True)\n",
    "    sim_scores = sim_scores[1:26]\n",
    "    movie_indices = [i[0] for i in sim_scores]\n",
    "    \n",
    "    movies = smd.iloc[movie_indices][['title', 'vote_count', 'vote_average', 'year', 'id']]\n",
    "    movies['est'] = movies['id'].apply(lambda x: svd.predict(userId, indices_map.loc[x]['movieId']).est)\n",
    "    movies = movies.sort_values('est', ascending=False)\n",
    "    return movies.head(10)"
   ]
  },
  {
   "cell_type": "code",
   "execution_count": 64,
   "id": "79eeb12b",
   "metadata": {
    "_cell_guid": "ef53f237-5dd0-4f62-8c32-e9666b2268f5",
    "_uuid": "5cea2292f710fae80d580aa43c713531e97451ad",
    "execution": {
     "iopub.execute_input": "2022-03-24T16:42:22.077920Z",
     "iopub.status.busy": "2022-03-24T16:42:22.077284Z",
     "iopub.status.idle": "2022-03-24T16:42:22.115598Z",
     "shell.execute_reply": "2022-03-24T16:42:22.114931Z",
     "shell.execute_reply.started": "2022-03-24T16:37:27.115683Z"
    },
    "papermill": {
     "duration": 0.124075,
     "end_time": "2022-03-24T16:42:22.115745",
     "exception": false,
     "start_time": "2022-03-24T16:42:21.991670",
     "status": "completed"
    },
    "tags": []
   },
   "outputs": [
    {
     "data": {
      "text/html": [
       "<div>\n",
       "<style scoped>\n",
       "    .dataframe tbody tr th:only-of-type {\n",
       "        vertical-align: middle;\n",
       "    }\n",
       "\n",
       "    .dataframe tbody tr th {\n",
       "        vertical-align: top;\n",
       "    }\n",
       "\n",
       "    .dataframe thead th {\n",
       "        text-align: right;\n",
       "    }\n",
       "</style>\n",
       "<table border=\"1\" class=\"dataframe\">\n",
       "  <thead>\n",
       "    <tr style=\"text-align: right;\">\n",
       "      <th></th>\n",
       "      <th>title</th>\n",
       "      <th>vote_count</th>\n",
       "      <th>vote_average</th>\n",
       "      <th>year</th>\n",
       "      <th>id</th>\n",
       "      <th>est</th>\n",
       "    </tr>\n",
       "  </thead>\n",
       "  <tbody>\n",
       "    <tr>\n",
       "      <th>3381</th>\n",
       "      <td>Memento</td>\n",
       "      <td>4168.0</td>\n",
       "      <td>8.1</td>\n",
       "      <td>2000</td>\n",
       "      <td>77</td>\n",
       "      <td>3.469339</td>\n",
       "    </tr>\n",
       "    <tr>\n",
       "      <th>7648</th>\n",
       "      <td>Inception</td>\n",
       "      <td>14075.0</td>\n",
       "      <td>8.1</td>\n",
       "      <td>2010</td>\n",
       "      <td>27205</td>\n",
       "      <td>3.157967</td>\n",
       "    </tr>\n",
       "    <tr>\n",
       "      <th>8613</th>\n",
       "      <td>Interstellar</td>\n",
       "      <td>11187.0</td>\n",
       "      <td>8.1</td>\n",
       "      <td>2014</td>\n",
       "      <td>157336</td>\n",
       "      <td>3.147487</td>\n",
       "    </tr>\n",
       "    <tr>\n",
       "      <th>6623</th>\n",
       "      <td>The Prestige</td>\n",
       "      <td>4510.0</td>\n",
       "      <td>8.0</td>\n",
       "      <td>2006</td>\n",
       "      <td>1124</td>\n",
       "      <td>3.094809</td>\n",
       "    </tr>\n",
       "    <tr>\n",
       "      <th>5943</th>\n",
       "      <td>Thursday</td>\n",
       "      <td>84.0</td>\n",
       "      <td>7.0</td>\n",
       "      <td>1998</td>\n",
       "      <td>9812</td>\n",
       "      <td>2.996010</td>\n",
       "    </tr>\n",
       "    <tr>\n",
       "      <th>6218</th>\n",
       "      <td>Batman Begins</td>\n",
       "      <td>7511.0</td>\n",
       "      <td>7.5</td>\n",
       "      <td>2005</td>\n",
       "      <td>272</td>\n",
       "      <td>2.995273</td>\n",
       "    </tr>\n",
       "    <tr>\n",
       "      <th>8031</th>\n",
       "      <td>The Dark Knight Rises</td>\n",
       "      <td>9263.0</td>\n",
       "      <td>7.6</td>\n",
       "      <td>2012</td>\n",
       "      <td>49026</td>\n",
       "      <td>2.949324</td>\n",
       "    </tr>\n",
       "    <tr>\n",
       "      <th>7561</th>\n",
       "      <td>Harry Brown</td>\n",
       "      <td>351.0</td>\n",
       "      <td>6.7</td>\n",
       "      <td>2009</td>\n",
       "      <td>25941</td>\n",
       "      <td>2.844007</td>\n",
       "    </tr>\n",
       "    <tr>\n",
       "      <th>7362</th>\n",
       "      <td>Gangster's Paradise: Jerusalema</td>\n",
       "      <td>16.0</td>\n",
       "      <td>6.8</td>\n",
       "      <td>2008</td>\n",
       "      <td>22600</td>\n",
       "      <td>2.821817</td>\n",
       "    </tr>\n",
       "    <tr>\n",
       "      <th>2085</th>\n",
       "      <td>Following</td>\n",
       "      <td>363.0</td>\n",
       "      <td>7.2</td>\n",
       "      <td>1998</td>\n",
       "      <td>11660</td>\n",
       "      <td>2.800868</td>\n",
       "    </tr>\n",
       "  </tbody>\n",
       "</table>\n",
       "</div>"
      ],
      "text/plain": [
       "                                title  vote_count  vote_average  year      id  \\\n",
       "3381                          Memento      4168.0           8.1  2000      77   \n",
       "7648                        Inception     14075.0           8.1  2010   27205   \n",
       "8613                     Interstellar     11187.0           8.1  2014  157336   \n",
       "6623                     The Prestige      4510.0           8.0  2006    1124   \n",
       "5943                         Thursday        84.0           7.0  1998    9812   \n",
       "6218                    Batman Begins      7511.0           7.5  2005     272   \n",
       "8031            The Dark Knight Rises      9263.0           7.6  2012   49026   \n",
       "7561                      Harry Brown       351.0           6.7  2009   25941   \n",
       "7362  Gangster's Paradise: Jerusalema        16.0           6.8  2008   22600   \n",
       "2085                        Following       363.0           7.2  1998   11660   \n",
       "\n",
       "           est  \n",
       "3381  3.469339  \n",
       "7648  3.157967  \n",
       "8613  3.147487  \n",
       "6623  3.094809  \n",
       "5943  2.996010  \n",
       "6218  2.995273  \n",
       "8031  2.949324  \n",
       "7561  2.844007  \n",
       "7362  2.821817  \n",
       "2085  2.800868  "
      ]
     },
     "execution_count": 64,
     "metadata": {},
     "output_type": "execute_result"
    }
   ],
   "source": [
    "hybrid(1, 'The Dark Knight')"
   ]
  },
  {
   "cell_type": "code",
   "execution_count": 65,
   "id": "a494e912",
   "metadata": {
    "_cell_guid": "381aba27-ecfa-43f1-9dad-c3379a57b8d9",
    "_uuid": "7fc2843807a5fbe792729eee7c74e9cabc6867ca",
    "execution": {
     "iopub.execute_input": "2022-03-24T16:42:22.289925Z",
     "iopub.status.busy": "2022-03-24T16:42:22.288788Z",
     "iopub.status.idle": "2022-03-24T16:42:22.322449Z",
     "shell.execute_reply": "2022-03-24T16:42:22.321773Z",
     "shell.execute_reply.started": "2022-03-24T16:37:27.157672Z"
    },
    "papermill": {
     "duration": 0.122383,
     "end_time": "2022-03-24T16:42:22.322593",
     "exception": false,
     "start_time": "2022-03-24T16:42:22.200210",
     "status": "completed"
    },
    "tags": []
   },
   "outputs": [
    {
     "data": {
      "text/html": [
       "<div>\n",
       "<style scoped>\n",
       "    .dataframe tbody tr th:only-of-type {\n",
       "        vertical-align: middle;\n",
       "    }\n",
       "\n",
       "    .dataframe tbody tr th {\n",
       "        vertical-align: top;\n",
       "    }\n",
       "\n",
       "    .dataframe thead th {\n",
       "        text-align: right;\n",
       "    }\n",
       "</style>\n",
       "<table border=\"1\" class=\"dataframe\">\n",
       "  <thead>\n",
       "    <tr style=\"text-align: right;\">\n",
       "      <th></th>\n",
       "      <th>title</th>\n",
       "      <th>vote_count</th>\n",
       "      <th>vote_average</th>\n",
       "      <th>year</th>\n",
       "      <th>id</th>\n",
       "      <th>est</th>\n",
       "    </tr>\n",
       "  </thead>\n",
       "  <tbody>\n",
       "    <tr>\n",
       "      <th>6623</th>\n",
       "      <td>The Prestige</td>\n",
       "      <td>4510.0</td>\n",
       "      <td>8.0</td>\n",
       "      <td>2006</td>\n",
       "      <td>1124</td>\n",
       "      <td>3.796614</td>\n",
       "    </tr>\n",
       "    <tr>\n",
       "      <th>5943</th>\n",
       "      <td>Thursday</td>\n",
       "      <td>84.0</td>\n",
       "      <td>7.0</td>\n",
       "      <td>1998</td>\n",
       "      <td>9812</td>\n",
       "      <td>3.378605</td>\n",
       "    </tr>\n",
       "    <tr>\n",
       "      <th>8031</th>\n",
       "      <td>The Dark Knight Rises</td>\n",
       "      <td>9263.0</td>\n",
       "      <td>7.6</td>\n",
       "      <td>2012</td>\n",
       "      <td>49026</td>\n",
       "      <td>3.333134</td>\n",
       "    </tr>\n",
       "    <tr>\n",
       "      <th>8613</th>\n",
       "      <td>Interstellar</td>\n",
       "      <td>11187.0</td>\n",
       "      <td>8.1</td>\n",
       "      <td>2014</td>\n",
       "      <td>157336</td>\n",
       "      <td>3.236962</td>\n",
       "    </tr>\n",
       "    <tr>\n",
       "      <th>7648</th>\n",
       "      <td>Inception</td>\n",
       "      <td>14075.0</td>\n",
       "      <td>8.1</td>\n",
       "      <td>2010</td>\n",
       "      <td>27205</td>\n",
       "      <td>3.197623</td>\n",
       "    </tr>\n",
       "    <tr>\n",
       "      <th>5098</th>\n",
       "      <td>The Enforcer</td>\n",
       "      <td>21.0</td>\n",
       "      <td>7.4</td>\n",
       "      <td>1951</td>\n",
       "      <td>26712</td>\n",
       "      <td>3.157962</td>\n",
       "    </tr>\n",
       "    <tr>\n",
       "      <th>2448</th>\n",
       "      <td>Nighthawks</td>\n",
       "      <td>87.0</td>\n",
       "      <td>6.4</td>\n",
       "      <td>1981</td>\n",
       "      <td>21610</td>\n",
       "      <td>3.144186</td>\n",
       "    </tr>\n",
       "    <tr>\n",
       "      <th>3381</th>\n",
       "      <td>Memento</td>\n",
       "      <td>4168.0</td>\n",
       "      <td>8.1</td>\n",
       "      <td>2000</td>\n",
       "      <td>77</td>\n",
       "      <td>3.127115</td>\n",
       "    </tr>\n",
       "    <tr>\n",
       "      <th>7561</th>\n",
       "      <td>Harry Brown</td>\n",
       "      <td>351.0</td>\n",
       "      <td>6.7</td>\n",
       "      <td>2009</td>\n",
       "      <td>25941</td>\n",
       "      <td>3.120881</td>\n",
       "    </tr>\n",
       "    <tr>\n",
       "      <th>4021</th>\n",
       "      <td>The Long Good Friday</td>\n",
       "      <td>87.0</td>\n",
       "      <td>7.1</td>\n",
       "      <td>1980</td>\n",
       "      <td>14807</td>\n",
       "      <td>3.047903</td>\n",
       "    </tr>\n",
       "  </tbody>\n",
       "</table>\n",
       "</div>"
      ],
      "text/plain": [
       "                      title  vote_count  vote_average  year      id       est\n",
       "6623           The Prestige      4510.0           8.0  2006    1124  3.796614\n",
       "5943               Thursday        84.0           7.0  1998    9812  3.378605\n",
       "8031  The Dark Knight Rises      9263.0           7.6  2012   49026  3.333134\n",
       "8613           Interstellar     11187.0           8.1  2014  157336  3.236962\n",
       "7648              Inception     14075.0           8.1  2010   27205  3.197623\n",
       "5098           The Enforcer        21.0           7.4  1951   26712  3.157962\n",
       "2448             Nighthawks        87.0           6.4  1981   21610  3.144186\n",
       "3381                Memento      4168.0           8.1  2000      77  3.127115\n",
       "7561            Harry Brown       351.0           6.7  2009   25941  3.120881\n",
       "4021   The Long Good Friday        87.0           7.1  1980   14807  3.047903"
      ]
     },
     "execution_count": 65,
     "metadata": {},
     "output_type": "execute_result"
    }
   ],
   "source": [
    "hybrid(500, 'The Dark Knight')"
   ]
  }
 ],
 "metadata": {
  "kernelspec": {
   "display_name": "Python 3",
   "language": "python",
   "name": "python3"
  },
  "language_info": {
   "codemirror_mode": {
    "name": "ipython",
    "version": 3
   },
   "file_extension": ".py",
   "mimetype": "text/x-python",
   "name": "python",
   "nbconvert_exporter": "python",
   "pygments_lexer": "ipython3",
   "version": "3.7.12"
  },
  "papermill": {
   "default_parameters": {},
   "duration": 187.031321,
   "end_time": "2022-03-24T16:42:23.623653",
   "environment_variables": {},
   "exception": null,
   "input_path": "__notebook__.ipynb",
   "output_path": "__notebook__.ipynb",
   "parameters": {},
   "start_time": "2022-03-24T16:39:16.592332",
   "version": "2.3.3"
  }
 },
 "nbformat": 4,
 "nbformat_minor": 5
}
